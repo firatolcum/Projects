{
 "cells": [
  {
   "cell_type": "markdown",
   "id": "9a780875",
   "metadata": {},
   "source": [
    "### Amazon Web Scraping Project"
   ]
  },
  {
   "cell_type": "code",
   "execution_count": 1,
   "id": "d20bbdf2",
   "metadata": {},
   "outputs": [],
   "source": [
    "from bs4 import BeautifulSoup\n",
    "import requests\n",
    "import time\n",
    "import datetime\n",
    "import smtplib # For sending e-mail to yourself"
   ]
  },
  {
   "cell_type": "code",
   "execution_count": 2,
   "id": "4649d2a0",
   "metadata": {},
   "outputs": [
    {
     "name": "stdout",
     "output_type": "stream",
     "text": [
      "\n",
      "            ROG Zephyrus G14 Alan Walker Special Edition Gaming Laptop, 14” 120Hz Pantone Validated WQHD Display, GeForce RTX 3050 Ti, AMD Ryzen 9 5900HS, 16GB DDR4, 1TB SSD, Wi-Fi 6, Windows 10, GA401QEC-K2064T\n",
      "           \n",
      "\n",
      "                         $1,299.99\n",
      "                        \n"
     ]
    }
   ],
   "source": [
    "# Connect to Website \n",
    "URL = \"https://www.amazon.com/Zephyrus-Special-Pantone-Validated-GA401QEC-K2064T/dp/B09VS7971V/ref=sr_1_15?crid=1TRLSO4FD52CV&keywords=laptop&qid=1673158986&sprefix=%2Caps%2C179&sr=8-15&th=1\"\n",
    "\n",
    "headers = {\n",
    "    \"User-Agent\" : \"Mozilla/5.0 (Windows NT 10.0; Win64; x64) AppleWebKit/537.36 (KHTML, like Gecko) Chrome/108.0.0.0 Safari/537.36\", \n",
    "    # http://httpbin.org/get >> To learn your User-agent.\n",
    "    \"Accept-Encoding\":\"gzip, deflate\", \n",
    "    \"Accept\":\"text/html,application/xhtml+xml,application/xml;q=0.9,*/*;q=0.8\", \n",
    "    \"DNT\":\"1\",\n",
    "    \"Connection\":\"close\", \n",
    "    \"Upgrade-Insecure-Requests\":\"1\"\n",
    "          }\n",
    "page = requests.get(URL, headers = headers)\n",
    "\n",
    "soup1 = BeautifulSoup(page.content, \"html.parser\")\n",
    "\n",
    "soup2 = BeautifulSoup(soup1.prettify(), \"html.parser\") # prettify() makes thing look better.\n",
    "\n",
    "title = soup2.find(id=\"productTitle\").get_text()\n",
    "\n",
    "price = soup2.find(attrs= {'class' : \"a-offscreen\"}).get_text()\n",
    "\n",
    "print(title)\n",
    "print(price)"
   ]
  },
  {
   "cell_type": "code",
   "execution_count": 3,
   "id": "e1689203",
   "metadata": {},
   "outputs": [
    {
     "name": "stdout",
     "output_type": "stream",
     "text": [
      "ROG Zephyrus G14 Alan Walker Special Edition Gaming Laptop, 14” 120Hz Pantone Validated WQHD Display, GeForce RTX 3050 Ti, AMD Ryzen 9 5900HS, 16GB DDR4, 1TB SSD, Wi-Fi 6, Windows 10, GA401QEC-K2064T\n",
      "1,299.99\n"
     ]
    }
   ],
   "source": [
    "# Clean up the data a little bit\n",
    "\n",
    "price = price.strip()[1:]\n",
    "title = title.strip()\n",
    "\n",
    "print(title)\n",
    "print(price)"
   ]
  },
  {
   "cell_type": "code",
   "execution_count": 4,
   "id": "3d278120",
   "metadata": {},
   "outputs": [
    {
     "name": "stdout",
     "output_type": "stream",
     "text": [
      "2023-01-08\n"
     ]
    }
   ],
   "source": [
    "# Create a Timestamp for your output to track when data was collected\n",
    "\n",
    "import datetime\n",
    "\n",
    "today = datetime.date.today()\n",
    "\n",
    "print(today)"
   ]
  },
  {
   "cell_type": "code",
   "execution_count": 5,
   "id": "1fee296e",
   "metadata": {},
   "outputs": [],
   "source": [
    "# Create CSV and write headers and data into the file\n",
    "\n",
    "import csv\n",
    "\n",
    "header = [\"Title\", \"Price\", \"Date\"]\n",
    "data = [title, price, today]\n",
    "\n",
    "with open(\"AmazonWebScraperDataset.csv\", \"w\", newline = \"\", encoding = \"UTF8\") as f:\n",
    "    writer = csv.writer(f)\n",
    "    writer.writerow(header)\n",
    "    writer.writerow(data)"
   ]
  },
  {
   "cell_type": "code",
   "execution_count": 6,
   "id": "212ea56a",
   "metadata": {},
   "outputs": [
    {
     "name": "stdout",
     "output_type": "stream",
     "text": [
      "                                               Title     Price        Date\n",
      "0  ROG Zephyrus G14 Alan Walker Special Edition G...  1,299.99  2023-01-08\n"
     ]
    }
   ],
   "source": [
    "import pandas as pd\n",
    "\n",
    "df = pd.read_csv(\"AmazonWebScraperDataset.csv\")\n",
    "\n",
    "print(df)"
   ]
  },
  {
   "cell_type": "code",
   "execution_count": 7,
   "id": "ca2dab05",
   "metadata": {},
   "outputs": [],
   "source": [
    "# Now we are appending data to the csv\n",
    "\n",
    "with open(\"AmazonWebScraperDataset.csv\", \"a+\", newline = \"\", encoding = \"UTF8\") as f:\n",
    "    writer = csv.writer(f)\n",
    "    writer.writerow(data)"
   ]
  },
  {
   "cell_type": "code",
   "execution_count": 8,
   "id": "e8c3ea4b",
   "metadata": {},
   "outputs": [],
   "source": [
    "#Combine all of the above code into one function\n",
    "\n",
    "def check_price():\n",
    "    URL = \"https://www.amazon.com/Zephyrus-Special-Pantone-Validated-GA401QEC-K2064T/dp/B09VS7971V/ref=sr_1_15?crid=1TRLSO4FD52CV&keywords=laptop&qid=1673158986&sprefix=%2Caps%2C179&sr=8-15&th=1\"\n",
    "    headers = {\"User-Agent\": \"Mozilla/5.0 (Windows NT 10.0; Win64; x64) AppleWebKit/537.36 (KHTML, like Gecko) Chrome/108.0.0.0 Safari/537.36\", \"Accept-Encoding\":\"gzip, deflate\", \"Accept\":\"text/html,application/xhtml+xml,application/xml;q=0.9,*/*;q=0.8\", \"DNT\":\"1\",\"Connection\":\"close\", \"Upgrade-Insecure-Requests\":\"1\"}\n",
    "\n",
    "    page = requests.get(URL, headers=headers)\n",
    "\n",
    "    soup1 = BeautifulSoup(page.content, \"html.parser\")\n",
    "\n",
    "    soup2 = BeautifulSoup(soup1.prettify(), \"html.parser\")\n",
    "\n",
    "    title = soup2.find(id='productTitle').get_text()\n",
    "\n",
    "    price = soup2.find(attrs= {'class' : \"a-offscreen\"}).get_text()\n",
    "\n",
    "    price = price.strip()[1:]\n",
    "    title = title.strip()\n",
    "\n",
    "    import datetime\n",
    "\n",
    "    today = datetime.date.today()\n",
    "    \n",
    "    import csv \n",
    "\n",
    "    header = ['Title', 'Price', 'Date']\n",
    "    data = [title, price, today]\n",
    "\n",
    "    with open('AmazonWebScraperDataset.csv', 'a+', newline='', encoding='UTF8') as f:\n",
    "        writer = csv.writer(f)\n",
    "        writer.writerow(data)\n",
    " "
   ]
  },
  {
   "cell_type": "code",
   "execution_count": null,
   "id": "cc8b47d3",
   "metadata": {},
   "outputs": [],
   "source": [
    "# Runs check_price after a set time and inputs data into your CSV\n",
    "\n",
    "while(True):\n",
    "    check_price()\n",
    "    time.sleep(86400)"
   ]
  },
  {
   "cell_type": "code",
   "execution_count": 9,
   "id": "9deeaf3c",
   "metadata": {},
   "outputs": [
    {
     "name": "stdout",
     "output_type": "stream",
     "text": [
      "                                               Title     Price        Date\n",
      "0  ROG Zephyrus G14 Alan Walker Special Edition G...  1,299.99  2023-01-08\n",
      "1  ROG Zephyrus G14 Alan Walker Special Edition G...  1,299.99  2023-01-08\n"
     ]
    }
   ],
   "source": [
    "import pandas as pd\n",
    "df = pd.read_csv(\"AmazonWebScraperDataset.csv\")\n",
    "print(df)"
   ]
  },
  {
   "cell_type": "code",
   "execution_count": 11,
   "id": "15bf2e79",
   "metadata": {},
   "outputs": [],
   "source": [
    "# If you want to try sending yourself an email when a price hits below a certain level;\n",
    "    # you can try it out with this script\n",
    "    \n",
    "def send_mail():\n",
    "    server = smtplib.SMTP_SSL(host = \"smtp.gmail.com\", port = 465)\n",
    "    server.ehlo()\n",
    "    #server.starttls()\n",
    "    server.ehlo()\n",
    "    server.login(\"firatolcum@gmail.com\", \"xxxxxxxxxxxxx\")\n",
    "    \n",
    "    subject = \"Thi laptop you want is below $1000! Now is your chance to buy!\"\n",
    "    body = \"Fırat, This is the moment we have waiting for.\\\n",
    "            Now is your chance to pick up the shirt of your dreams.\\\n",
    "            Link here : https://www.amazon.com/Zephyrus-Special-Pantone-Validated-GA401QEC-K2064T/dp/B09VS7971V/ref=sr_1_15?crid=1TRLSO4FD52CV&keywords=laptop&qid=1673158986&sprefix=%2Caps%2C179&sr=8-15&th=1\"\n",
    "    \n",
    "    msg = f\"Subject: {subject}\\n\\n{body}\"\n",
    "\n",
    "    server.sendmail(\"firatolcum@gmail.com\", msg)"
   ]
  }
 ],
 "metadata": {
  "kernelspec": {
   "display_name": "Python 3",
   "language": "python",
   "name": "python3"
  },
  "language_info": {
   "codemirror_mode": {
    "name": "ipython",
    "version": 3
   },
   "file_extension": ".py",
   "mimetype": "text/x-python",
   "name": "python",
   "nbconvert_exporter": "python",
   "pygments_lexer": "ipython3",
   "version": "3.9.12"
  }
 },
 "nbformat": 4,
 "nbformat_minor": 5
}
