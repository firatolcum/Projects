{
 "cells": [
  {
   "cell_type": "code",
   "execution_count": 1,
   "id": "7f637b44",
   "metadata": {},
   "outputs": [],
   "source": [
    "import pandas as pd\n",
    "import numpy as np\n",
    "import seaborn as sns\n",
    "import matplotlib.pyplot as plt"
   ]
  },
  {
   "cell_type": "code",
   "execution_count": null,
   "id": "e7853bee",
   "metadata": {},
   "outputs": [],
   "source": [
    "df = "
   ]
  },
  {
   "cell_type": "code",
   "execution_count": null,
   "id": "92ae8001",
   "metadata": {},
   "outputs": [],
   "source": []
  },
  {
   "cell_type": "code",
   "execution_count": null,
   "id": "a2ecce4b",
   "metadata": {},
   "outputs": [],
   "source": []
  },
  {
   "cell_type": "code",
   "execution_count": null,
   "id": "044d1330",
   "metadata": {},
   "outputs": [],
   "source": []
  },
  {
   "cell_type": "code",
   "execution_count": null,
   "id": "07643a98",
   "metadata": {},
   "outputs": [],
   "source": []
  },
  {
   "cell_type": "code",
   "execution_count": null,
   "id": "759b9966",
   "metadata": {},
   "outputs": [],
   "source": []
  },
  {
   "cell_type": "markdown",
   "id": "08b17154",
   "metadata": {},
   "source": [
    "##### 1. head()"
   ]
  },
  {
   "cell_type": "code",
   "execution_count": null,
   "id": "9c3e35d7",
   "metadata": {},
   "outputs": [],
   "source": []
  },
  {
   "cell_type": "markdown",
   "id": "1e12b0dc",
   "metadata": {},
   "source": [
    "##### 2. tail()"
   ]
  },
  {
   "cell_type": "code",
   "execution_count": null,
   "id": "4bf458dd",
   "metadata": {},
   "outputs": [],
   "source": []
  },
  {
   "cell_type": "markdown",
   "id": "c92867ca",
   "metadata": {},
   "source": [
    "##### 3. shape"
   ]
  },
  {
   "cell_type": "code",
   "execution_count": null,
   "id": "f8fd6578",
   "metadata": {},
   "outputs": [],
   "source": []
  },
  {
   "cell_type": "markdown",
   "id": "8ac7f45c",
   "metadata": {},
   "source": [
    "##### 4. size"
   ]
  },
  {
   "cell_type": "code",
   "execution_count": null,
   "id": "9e58f5b5",
   "metadata": {},
   "outputs": [],
   "source": []
  },
  {
   "cell_type": "markdown",
   "id": "e3748fea",
   "metadata": {},
   "source": [
    "##### 5. columns"
   ]
  },
  {
   "cell_type": "code",
   "execution_count": null,
   "id": "a8acd51d",
   "metadata": {},
   "outputs": [],
   "source": []
  },
  {
   "cell_type": "markdown",
   "id": "f1a1e94b",
   "metadata": {},
   "source": [
    "##### 6. Use heat-map to show null values count in seaborn."
   ]
  },
  {
   "cell_type": "code",
   "execution_count": null,
   "id": "6bb8c205",
   "metadata": {},
   "outputs": [],
   "source": []
  },
  {
   "cell_type": "markdown",
   "id": "5f4e7d78",
   "metadata": {},
   "source": [
    "##### 7. For 'House of Cards', what is the Show Id and who is the director of this show?"
   ]
  },
  {
   "cell_type": "markdown",
   "id": "079093b1",
   "metadata": {},
   "source": [
    "##### a. isin()"
   ]
  },
  {
   "cell_type": "code",
   "execution_count": null,
   "id": "37073a5f",
   "metadata": {},
   "outputs": [],
   "source": []
  },
  {
   "cell_type": "markdown",
   "id": "ed4122e0",
   "metadata": {},
   "source": [
    "##### b. str.contains()"
   ]
  },
  {
   "cell_type": "code",
   "execution_count": null,
   "id": "ba11a5b7",
   "metadata": {},
   "outputs": [],
   "source": []
  },
  {
   "cell_type": "markdown",
   "id": "b349cff2",
   "metadata": {},
   "source": [
    "##### 8. In which year highest number of the TV shows & Movies were released? Show with Bar Graph."
   ]
  },
  {
   "cell_type": "markdown",
   "id": "a89e2953",
   "metadata": {},
   "source": [
    "##### a. dtypes"
   ]
  },
  {
   "cell_type": "code",
   "execution_count": null,
   "id": "820ecb0e",
   "metadata": {},
   "outputs": [],
   "source": []
  },
  {
   "cell_type": "markdown",
   "id": "bc89fdd0",
   "metadata": {},
   "source": [
    "##### b. to_datetime()"
   ]
  },
  {
   "cell_type": "code",
   "execution_count": null,
   "id": "249767c7",
   "metadata": {},
   "outputs": [],
   "source": []
  },
  {
   "cell_type": "markdown",
   "id": "e4f3a2bf",
   "metadata": {},
   "source": [
    "##### c. dt.year.value_counts()"
   ]
  },
  {
   "cell_type": "code",
   "execution_count": null,
   "id": "77dce9da",
   "metadata": {},
   "outputs": [],
   "source": []
  },
  {
   "cell_type": "markdown",
   "id": "3a9b4b05",
   "metadata": {},
   "source": [
    "##### 9. How many Movies & TV shows are in the dataset? Show with Bar Graph."
   ]
  },
  {
   "cell_type": "markdown",
   "id": "5934501e",
   "metadata": {},
   "source": [
    "##### a. groupby()"
   ]
  },
  {
   "cell_type": "code",
   "execution_count": null,
   "id": "5107ac9d",
   "metadata": {},
   "outputs": [],
   "source": []
  },
  {
   "cell_type": "markdown",
   "id": "6152a96e",
   "metadata": {},
   "source": [
    "##### b. countplot()"
   ]
  },
  {
   "cell_type": "code",
   "execution_count": null,
   "id": "df0b5198",
   "metadata": {},
   "outputs": [],
   "source": []
  },
  {
   "cell_type": "markdown",
   "id": "68844007",
   "metadata": {},
   "source": [
    "##### 10. Show all the Movies that were released in year 2000."
   ]
  },
  {
   "cell_type": "markdown",
   "id": "8311d847",
   "metadata": {},
   "source": [
    "##### a. Create new column"
   ]
  },
  {
   "cell_type": "code",
   "execution_count": null,
   "id": "af6c18f0",
   "metadata": {},
   "outputs": [],
   "source": []
  },
  {
   "cell_type": "markdown",
   "id": "3fcfb5e8",
   "metadata": {},
   "source": [
    "##### b. Filter"
   ]
  },
  {
   "cell_type": "code",
   "execution_count": null,
   "id": "30f5ec5b",
   "metadata": {},
   "outputs": [],
   "source": []
  },
  {
   "cell_type": "markdown",
   "id": "f60bbedc",
   "metadata": {},
   "source": [
    "##### 11. Show only the Titles of all TV shows that were released in Turkey only."
   ]
  },
  {
   "cell_type": "code",
   "execution_count": null,
   "id": "b9c4c230",
   "metadata": {},
   "outputs": [],
   "source": []
  },
  {
   "cell_type": "markdown",
   "id": "b9fc1b63",
   "metadata": {},
   "source": [
    "#####  12. Show Top 10 directors, who gave the highest number of TV Shows & Movies to Netflix?"
   ]
  },
  {
   "cell_type": "code",
   "execution_count": null,
   "id": "2e3c0d3e",
   "metadata": {},
   "outputs": [],
   "source": []
  },
  {
   "cell_type": "markdown",
   "id": "9b909273",
   "metadata": {},
   "source": [
    "##### 13. Show all the records, where 'Category is Movie and Type is Comedies' or 'Country is United Kindgom'."
   ]
  },
  {
   "cell_type": "code",
   "execution_count": null,
   "id": "f9470b90",
   "metadata": {},
   "outputs": [],
   "source": []
  },
  {
   "cell_type": "markdown",
   "id": "6eda9703",
   "metadata": {},
   "source": [
    "##### 14. In how many movies / shows, Tom Cruise was cast?"
   ]
  },
  {
   "cell_type": "code",
   "execution_count": null,
   "id": "3e8fd406",
   "metadata": {},
   "outputs": [],
   "source": []
  },
  {
   "cell_type": "markdown",
   "id": "959767ec",
   "metadata": {},
   "source": [
    "##### 15. What are the different Ratings defined by Netflix?"
   ]
  },
  {
   "cell_type": "markdown",
   "id": "5c8dd115",
   "metadata": {},
   "source": [
    "##### a. nunique()"
   ]
  },
  {
   "cell_type": "code",
   "execution_count": null,
   "id": "92d61411",
   "metadata": {},
   "outputs": [],
   "source": []
  },
  {
   "cell_type": "markdown",
   "id": "845a60a7",
   "metadata": {},
   "source": [
    "##### b. unique()"
   ]
  },
  {
   "cell_type": "code",
   "execution_count": null,
   "id": "74103bca",
   "metadata": {},
   "outputs": [],
   "source": []
  },
  {
   "cell_type": "markdown",
   "id": "b7f17249",
   "metadata": {},
   "source": [
    "##### 16. How many movies got the 'TV-14' rating, in Canada?"
   ]
  },
  {
   "cell_type": "code",
   "execution_count": null,
   "id": "de60245f",
   "metadata": {},
   "outputs": [],
   "source": []
  },
  {
   "cell_type": "markdown",
   "id": "74c863fa",
   "metadata": {},
   "source": [
    "##### 17. How many TV shows got the 'R' rating, after year 2018?"
   ]
  },
  {
   "cell_type": "code",
   "execution_count": null,
   "id": "0ca812e5",
   "metadata": {},
   "outputs": [],
   "source": []
  },
  {
   "cell_type": "markdown",
   "id": "596d5339",
   "metadata": {},
   "source": [
    "##### 18. What is the maximum duration of a movie / show on Netflix?"
   ]
  },
  {
   "cell_type": "markdown",
   "id": "5e41f921",
   "metadata": {},
   "source": [
    "##### a. str.split()"
   ]
  },
  {
   "cell_type": "code",
   "execution_count": null,
   "id": "574f5a8c",
   "metadata": {},
   "outputs": [],
   "source": []
  },
  {
   "cell_type": "markdown",
   "id": "abdda1bf",
   "metadata": {},
   "source": [
    "##### b. max()"
   ]
  },
  {
   "cell_type": "code",
   "execution_count": null,
   "id": "78087d18",
   "metadata": {},
   "outputs": [],
   "source": []
  },
  {
   "cell_type": "markdown",
   "id": "4a9efa7c",
   "metadata": {},
   "source": [
    "##### 19. Which individual country has the highest number of TV Shows?"
   ]
  },
  {
   "cell_type": "code",
   "execution_count": null,
   "id": "31d0eec9",
   "metadata": {},
   "outputs": [],
   "source": []
  },
  {
   "cell_type": "markdown",
   "id": "bb87e245",
   "metadata": {},
   "source": [
    "##### 20. How can we sort the dataset by Year?"
   ]
  },
  {
   "cell_type": "code",
   "execution_count": null,
   "id": "6b57eda1",
   "metadata": {},
   "outputs": [],
   "source": []
  },
  {
   "cell_type": "markdown",
   "id": "6ddc60a1",
   "metadata": {},
   "source": [
    "##### 21. Find all the instances where: \n",
    "Category is 'Movie' and Type is 'Dramas' or Category is 'TV Show' and Type is 'Kids TV'"
   ]
  },
  {
   "cell_type": "code",
   "execution_count": null,
   "id": "b10caa19",
   "metadata": {},
   "outputs": [],
   "source": []
  },
  {
   "cell_type": "code",
   "execution_count": null,
   "id": "acb32aea",
   "metadata": {},
   "outputs": [],
   "source": []
  },
  {
   "cell_type": "code",
   "execution_count": null,
   "id": "03f1dbbf",
   "metadata": {},
   "outputs": [],
   "source": []
  },
  {
   "cell_type": "code",
   "execution_count": null,
   "id": "5b182b20",
   "metadata": {},
   "outputs": [],
   "source": []
  },
  {
   "cell_type": "code",
   "execution_count": null,
   "id": "2343ae48",
   "metadata": {},
   "outputs": [],
   "source": []
  }
 ],
 "metadata": {
  "kernelspec": {
   "display_name": "Python 3 (ipykernel)",
   "language": "python",
   "name": "python3"
  },
  "language_info": {
   "codemirror_mode": {
    "name": "ipython",
    "version": 3
   },
   "file_extension": ".py",
   "mimetype": "text/x-python",
   "name": "python",
   "nbconvert_exporter": "python",
   "pygments_lexer": "ipython3",
   "version": "3.9.12"
  }
 },
 "nbformat": 4,
 "nbformat_minor": 5
}
