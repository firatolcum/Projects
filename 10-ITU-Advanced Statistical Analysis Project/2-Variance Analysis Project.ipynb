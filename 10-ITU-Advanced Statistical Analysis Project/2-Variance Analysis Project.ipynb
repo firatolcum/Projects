{
 "cells": [
  {
   "cell_type": "markdown",
   "id": "a1ac3481-fac7-4d04-a11c-5ecc585370b4",
   "metadata": {},
   "source": [
    "---"
   ]
  },
  {
   "cell_type": "markdown",
   "id": "835035f2-90be-43cb-b027-5fac48e7c730",
   "metadata": {},
   "source": [
    "\n",
    "<div style=\"text-align: center;\">\n",
    "    <h1>Variance Analysis Project - Fırat Olçum - 20.01.2025</h1>\n",
    "</div>\n",
    "<div style=\"text-align: center;\"> \n",
    "\n",
    "<img src=\"data:image/jpeg;base64,/9j/4AAQSkZJRgABAQEAZABkAAD/2wBDAAUDBAQEAwUEBAQFBQUGBwwIBwcHBw8LCwkMEQ8SEhEPERETFhwXExQaFRERGCEYGh0dHx8fExciJCIeJBweHx7/2wBDAQUFBQcGBw4ICA4eFBEUHh4eHh4eHh4eHh4eHh4eHh4eHh4eHh4eHh4eHh4eHh4eHh4eHh4eHh4eHh4eHh4eHh7/wgARCAEfA9wDASIAAhEBAxEB/8QAGwABAQADAQEBAAAAAAAAAAAAAAYEBQcDAgH/xAAZAQEBAQEBAQAAAAAAAAAAAAAAAwIBBAX/2gAMAwEAAhADEAAAAYMff+AAAAAAAAAAAAAAAAAAAAAAAAAAAAAAAAAAAAAAAAAAAAAAAAAAAAAAAAAAAAAAAAAAAAAAAAAAAAAAAAAAAAAAAAAAAZ1hOkC6D8Z1AugfTvPVXK0n+DWAAAAAAAAAAAAAAAAAAAAAAAAAAAAAAAAAAAAAAAAAAAAAAAAAAAAAAABnc7jX2XzuHor4v96Q5zff5mSRH17dU1nnddE6wo5yuyediBeAAAAAAAAAAAAAAAAAAAAAAAAAAAAAAAAAAAAAAAAAAAAAAAAAAAAAAGT0Nzzzenz6BodmSlBXc+dup2b3nGVtZbXd5rvv46HWWHitJKtJE2GBrM8LwAAAAAAAAAAAAAAAAAAAAAAAAAAAAAAAAAAAAAAAAAAAAAAAAAAAAWUh0KN5TNw7XGsiOwvvnfCwyOedVk3rFY0NTzVztJ95+txT2q5eslTlfRZjGrLUfFxD1kG8AAAAAAAAAAAAAAAAAAAAAAAAAAAAAAAAAAAAAAAAAAAAAAAAAAAWk5ZwcPRnfOr3O57z2jbaNpLWnp8wd4VmwlaD6NEenHzWfchndfMWOhxrdc633tSc0LwAAAAAAAAAAAAAAAAAAAAAAAAAAAAAAAAAAAAAAAAAAAAAAAAAAZWLX43lafA20q7fx1+q5qnjrjnusBeCn0VJKuoptNjY3nZUZX95tInPyud8druPSdOZX03Sbxz0enzAAAAAAAAAAAAAAAAAAAAAAAAAAAAAAAAAAAAAAAAAAAAAAAAAAOg8+6BG/P7SV7BjUjI9BiSlgaebpj4Z2DSVjOUXpD0Y+t20t3OTQR9j3kff8/6BzuP6anfTpodxp/XXJb52uq9HnDuQAAAAAAAAAAAAAAAAAAAAAAAAAAAAAAAAAAAAAAAAAAAAAAAAHQOf3sbS1LMdBxvW6nYY2daewgdvvHRNLqtj5/RpKrS03ecqwPqu9fk131lSmdOgc/vicoJysxTV6zZabuc2cqJekwpMAAAAAAAAAAAAAAAAAAAAAAAAAAAAAAAAAAAAAAAAAAAAAAAABfQN/G0Tt9T0rncTT5WrnTS4+003p8/W/dr/AJ3vmKOk/O8kN3OqY+IfrnOay1N/AdA3iS2uLvM6ypmmms6yZegn7RCkwAAAAAAAAAAAAAAAAAAAAAAAAAAAAAAAAAAAAAAAAAAAAAAAAHQOf38bwVTK9T4mdLn6PXKeVvOf8dx5ZhYuN9Roee0/m9GDDdd5pWdLPeGz1mG6BB3VJ6vb6jzxvP8ALC3pH6/9/PT5g7wAAAAAAAAAAAAAAAAAAAAAAAAAAAAAAAAAAAAAAAAAAAAAAAABTTPpne4y9xPRtaTOd9z37c8sdHWWqF4On8w6RD0U8lj3Hk9Ohjuk8VtKnwKyRpi4/PDURrK3cDeXhz8XgAAAAAAAAAAAAAAAAAAAAAAAAAAAAAAAAAAAAAAAAAAAAAAAAAAB0WTzfHz+lPlofXRecVU6SqmmaTbHXO8u4f4Z1+7PWdMzvTRf7+ax71MeLHS2HOJ1C/nAAAAAAAAAAAAAAAAAAAAAAAAAAAAAAAAAAAAAAAAAAAAAAAAAAAdJ5tQStPq2S3gNYvtHO2Hn9Ee6Nid5Cel77npCeeF3gWiodB0mNp2WKYDWAAAAAAAAAAAAAAAAAAAAAAAAAAAAAAAAAAAAAAAAAAAAAAAAAAAAOgx+v6X5/RzNnYN4MvE6BjfP/Sgzudjtrvc7Guf/AJsNfeQuc9y4rZT2KBaAAAAAAAAAAAAAAAAAAAAAAAAAAAAAAAAAAAAAAAAAAAAAAAAAAAAAD7+DvRpudq/PeUqt9PGL54mDSdf6S/rjfn4XGRzv7M6nF1kLRAAAAAAAAAAAAAAAAAAAAAAAAAAAAAAAAAAAAAAAAAAAAAAAAAAAAAAAAb3RM6vkCnToGDGjJxisg7wAAAAAAAAAAAAAAAAAAAAAAAAAAAAAAAAAAAAAAAAAAAAAAAAAAAAAAAAAAAAAAAAAAAAAAAAAAAAAAAAAAAAAAAAAD//EAC0QAAICAgECBAYCAgMAAAAAAAQFAgMBBgAUYBASExURICEjJCUWNSKAJjI2/9oACAEBAAEFAv8Aa4QQkuVeuZrh6Os0cyTrGOepq9nPaU5XDkDEbmfpnvKqudtg6cQCk3YbsxttstnmuzFatdIoXyy89lc6pAtTg8xNVOeN1BK/PeAItxhFtwevUkX3FXyhmq3CoE9Q0leSo1vP6wOmRBT6P5LC4a67iZzYJhypr9Du4ai0m8y+lCFHzW2irsryWHn65XbblTMwJmn1+0akPVqx4MiJXMNZ5CMpyKTVB4XlFozX62uNfdosYoVX3iSGK2gYXVmeB7TSIxvkdmi4YQsuWNea5xekZ04pLLFxwGI6ZcDCZRB043k64yiNY9XSXGd16uFG4hwdNgcpJ9qIiEuwHgUSSMskpiQOrCWUGbGVPk2B88jOWdGa2S1thyovXSrOFuFn1Te4YdcCisrsrwtlhymnHMZd0wjKc30orVKcWJJT2hgUIpNuALbnSYFj106+CWRcVf8AIibRri+WSXE1EltsP4CU8JKvZ8FkSrL2sWHq906kNGw5kTIw5awIAmGeUJe5Z1EhayLVXBkZacX8yK+DID4krjq1NdkZuhAsNqyoXpf2SLumf6/UaKrL7OXrDKhRqZkEbRdAen5FoFNY7S+LJGEIQZZOBS03Z6oFC04KM5UOGjixmzYD6+V0jbZRulb9zi1ZvJ3K3GTk5ft+fU14/h9MVinUaY4uKukQR4pQq7MNTrTydfpj7Ye2zKu2XXa3rMsGLxr7wiZOGksh0PDZTjmE9j/LTdz6jT6rlpd1DGsskELBKm/LOqwYq38LUPEWiZJGwXwhxMBC/jZhM63iP6rUJHTNtnH6dz7naOCcZeYVsGK8N1n5Wqdz6p9kPlGxE1Q93VSyTbYYbuUsQu8UHwGGDHtNMfkw+MQfSqmRHHEuZZA5tf3xUfuhC7+N2VxdhDCVaZnEiZYzGXcwH2tOEr9YvGTbCpEyLpSQ9VvtNnqPMRlnF4hFFXDvsa0n/CU1VVqhrrbLreZx0mscJ+9piGvJFkj0flclA2U6nPyvG8PTadzWf4aSqhdYwrjs0OEFvYBanHzPGOYWOlrMIaDCUM2Tp6gjYPoLSNXgU8qwwviVdI8h8bEwvgH3NNTU1XFrAwmLBhFaUCgl5XOy48rzuYz/AMWsgRYdWqHXQasmBQunf3R2fibrUYyeEkGKW3W3wuo2E64rcbcULY4zKQiWUYNGmLKPBPn/AIwnkTBgeW1vEMm1tVqfjFvtX993MXj46UNfYPeKQ4JmUI1rT6f/AHR+PKdVOVVilwzPw4V3N+FpGApTBnKGKHmfUKeTCp2UUaNPgo+GNXWW3Dl/yBvwoh3FYvttJe7V/fdzf99JEnXWTJ2LbWxDsJI1aXleO4+RvxbDyBWE4P2a9jIcYT8pa0LuBJWJM8k0Usr2wnQsOC/b0tITSIR7onnxtgatHrsfM62OXmd9zKfu6pH4eZotposXJGFt6ufoM9tr9N3VjErKp1e5qLc5ePY/qPPG1jszU4VhiLBnapWCriNrpvrbcY/Y1FHSFMf2VZdVsFZVIuoQ87pjP1WHc2nfCzOcZxkxgbBZBi2vuulKV21/kDcoMvoGHslTeY6rKXrZ/FRspuQRL37KyC5Scxs20imV1ccznuMsQsWX1QX0Mp3UOZjeTUPsw7n1i70XT6np24NYUFHqXrEOy12RvF/O1L5Fcs/xyZmLXpVxopqyOwEnbJZVa51YbqHLwjqmuRmto06EFBBEPSvo/E03ueuWYT26OLsJjTBL5DO3N7BeNUFqZWKGbYXITDxTY9bWdu81ba2080MfJK/EvrlX+t11PXRYf7WfCkYhisGjiVk9sziinuhf+x1cA7pIsmxhtnI5zGTiOGqbxXmkA32MhDUsZSjnOc5yrDmcdtRUJk8pttpnh5O0fVxsEuHBXWMu6NaM6Nq/D6Jn464xwEVsC3IBXy4xnOYYjr6nOc5z41/qtX7qu/da98iVjReM4UkLrPGEZTkAGOlHYF2mleKAHJ7DZTusY91Ij8rztlX4EJ+RU8tGrkvSsOT1c/GY636WPcVSqJhN5d3jHGZSK+CNJ3YgLpMFYh2gleIw15M+YnPGM5znNC06+rP0z4ohKgBTyrDCu7MfTIl9D4I0W4Mjw0u+7r1wwEgLF4GTZiKJDICerOY+bLDwSKoYreM7GJHd0ZZjIRiI1HbKCl8ua+aGvvAEqMaur+oZso9GkFYr44MvkUVXXO2YasVZU4aXsbe8VbskOOQUzXhiJkPym4kK7hJFxMxgiyeD65OMJtl62BRFxN3egjdiNyOzkSjl6DnmNiphwjZGVvL77iJ/7X//xAArEQACAQMCBQMFAAMAAAAAAAABAgADESESMRMiMkFQEEJRIzNgYXGRwfD/2gAIAQMBAT8B/G1pM204P7E4J7GMhXfzIF5ZaW+TOetFQa7RKepSYKhXG4hQMNSeY+0P3KYCtZoVFM3vNbsQ1oHKDSwlNNUJ08y4jqGGtfLUh7j2ihj9TvGdSu0Nky2TGqs25i1mEO2pImxaIdJ/UqLpNvKvhQkBbt2itf6jdoTfPpwsXlMlM9pbQ1t5UBIzG5kB+PKU11MBC16haF8XlTlUL6ILcxgNudorljYwm6BviBR3a8QZZPKUOq8oK3YypckCVjdzCLS17LH3uZTObynlWEXSV5oCBVFowsbeTpe7+SkpIm9RYjkPiFgTmLp5ngVnMYhRpEo7n+SnbTmHrBlXrPk6Xu/kpi+5hxUWNhp7bNmCmBhDAz30iV1HUso7n+ROnqtHvrAvKvWfJ0Ou0pgEG8JUW0ythzHq6rRXBbH/AGZXtq5mh+1taU8KxilLAGDNYQm/k0Ok3hAWoY12X9R+ZA3pQ3MJ1Ej4lfCgQiyhfmXtuP8Acp4DN5UklQw7RmLZMpMOk94ylTYwG20Zy28pJc3O0dtRvFcrtKnKoXytJgDY7GOpU2PorhxZ5wH7ZnBI68R6l+VdvSkt8nYRm1G58sPqDT3hFpSUM1jBTNrxaYvYw4MRC5sJUcdK7eY1q+H/AMwU3Q6hmFuW01nVyzhd3xGqY0rt5oMRtOO/zOO/zCb/AI5//8QAMREAAgEDAgQDBwMFAAAAAAAAAQIAAxESITEiMkFQEBNRBBQjM0JhcWBikYGxweHw/9oACAECAQE/Af021VV3nnftM84DcGK4bbvJNpdqu2gnBRjOcLx6uLAQ0g2uxi1CpxfvHzT+0SqSy3WBjUW1pgiArlCgc5KZUfERQW4W1lNipwbu1UnlHWOyi1PpFRw1rwXqaLosWki7CNRU/aDU4PvHvcJHBYfeU3zW/daerF4QnXrGW3w16wC2g8PN1tKgD6dZcut9vWUyMuHaLw1Cvr3So2KkwLamFirraU+Jmbwc3OIhGXAsdAouIBaoR6wsei2jnRX7pX5bSuy9RKdgCZRFqYgN5loWiDSwlQaWlTRlMbIMcf7RgTRN4DcX7nV+n8yswBlrUm0lRAU1gQgaRsuFDCyoIoLHJpW2H5lXLLSLyGUuQdzrfT+ZVNtlg+U0XVZ9d00tDUJsXEKU7ZN/uUHPI28rbD8x+blvEtgTaUuQdzr8l5VZgRaAMb5SjrTESiVBjIQuv/aT2e+HCsF/N3vKmrqIwe5IMOlEwaDubLkLQEtSEWyt94nC5X+vh7RyiAYAH1lDVyYDd2f0gF9j/iVNSq91AAcoesVQosJVU8w3EVgwuIRfQxECbSq+IsN4i4raNTVt5T4nLd1qqSLjcRGDi48CjIck/ie8J10nng8msp07HJt/CqxAxG5iLiLDux+GcukBvKjFVuIaoBtGqm1xBtHcILmU0N8m37xgyap/ENRHGLaQLxXmAx4p5o2p6xKeuTb96Kht57vT9IKFP0/Tv//EAEcQAAECAwIHDAgEBQQDAQAAAAECAwAEERIhBRMiMUFRYRAUIzJCYHGBkcHR8CAzQ1JiobHhFTRy8SRTY4Kyc4Ci0mSDo8L/2gAIAQEABj8C/wB11mXZW50ZhAcn51mWTFFzL0wdkfkJk/3H/tFMRMM9viY/gsKWVe655EWg3jk627/lFDzzCG0FazmAgTOGXRXkspMYnB7SZVkZqC/7RbdWpatajAcKFBBzKpcYmHMQ6shPBFJFK7YsUJVWlIsOIUhWpQoYGJfNn3FXiLE80JWZ0Op09fjFojGM6HE88UsMJqo/KMTLgPz6hlLPJ86oLjy1OOKiw8hSSDlJNxhp2RTiZggkArrWmcQ07MFWOl3VNO2s994jC4/8fuVDTCc61gQhc04G5BmzRJTaLitkWpWV3unVarXc3vMjHypuKTfSPxDBpxksbykcnnehhlNpajdG8pQhU4scI5qgC1lKOdRjBz7LiXsa5ZW4L0jo+d8P2wQrGGtYeSySHpVwPt07DE0twtsTJQAsFVKkZonUvzLbZfbsJBrXT4xjnplgYuoSmt6jrFYmXHgq20+Vprqr9zuBCEkqJoANMYyadcCC1mTQqDmo/OMVMIIQqmMbz9cDCUhlSrl5A5HO7fTqRv18UQk8mOU464rtMBbc6246g2Xm9StkCTmCCwtWTXkqhUthyTQtm+xMBJv+8OfhtuXaVtyu2OAYcd1kDvj1AH94iqpRRHwZX0hTbbzjYzFGjs3EYQfTjJt9NWUahCsK4QWN7oVVZUK2z7oEOPMpdsfGa064MpNXyr1xBzJgovLS721c7FTj90vL5RJzVhTx4mZA1CEvTEmpRWBZUbqJ1iJibl2lTcs9SraRlN66aYVOVcbdQ5Zyrw5shNuq1ZkITmHRAmsLrC3OSyL/AN4xcmhEq0M1BfFVTkwf/YYyZtaxqXlfWMThNhLLuh5Pm6LXrGDxXB3w0xhFl1eJubW2aGmowlphoNS7IyU1yGxrJiZfvfCxYtm4OHZ1wkrQU2xaTXSIXg90/wASwKtK1+c0FKhQg0POoISKqUaAQxglo5ahaeI0+e6LTxsy7QtvK2QVyzzc3JlVtIQm9GyErQspRXhBnqIqlFloGjaB5zwJl9IXPOjIR7sKefWVrPo7wn+ElF3ZXI+0ZOUwu9tXdErg0EinHIPGGs9AhlqZXZlmE8Gwg5Th7h94Eu3LNJS0CptKRelNLxtiXmlIKK5Q+JMN4RYvZmRWu3nUqac9XLptV2w7MK5arujRBLJBSrjIULlQXWHLFTUp5J6obCGmkPvCswUbDcIcwtN+qY4m0wuYc05hqHprwRNnKAqyqDZUW3mlUgYQwjhJOJcAVarlKjFYIk0jW4sXqhBmQpNtFpCSSbCdUTGDVXuNZbXnzn51JSLnZw/L9vrGLbFVUJ7NxM0WrTKgFWkmtIQy3xlqoIYwRL8RpIK9p83+j+IYSNmX9mjS7AmksoaMu9Ysp0IMYuXaKz8hCbaC082bQiXwuwLnBZc6fN0NSbYLlmthOqueAt4b7whyW05kQqYmmaIZNa2CLjohldclRsK6DDoAyXMtPXzobYGdawmG5VHEYbApqr5ELmjLF20MWK8XbHCNrkXTpTxYW0zNpfE2sUKc1lMP4Qd9XLo+f7Q4+vjLVU+gudnLpRjjfGdUY1eSkXIR7oicVO1bknAMvaDojekgje0qNA4yumA6vKek12a/AYm8FOHjJtt10eTSMY0otuoqIoZtzquiwtc2GnLlKcrSnXBQrOk0MSGEdNLC/PSDzoQdDaSvu74mHveWadEMsqlWFtOcJwiLVqv7RSYkFS5PLZXm6jCpNbhWGTRP1hCBx5tdT0fsB6CGGxlrNBCMGSx4CWuPxL0mFzc2bEmzxz72yBQYthFzbYzJG5hRs5iyFdkS7mi1ZPQboeHJXljr8mJN6XlGSt1ui3lJrxbjWkMsyGFauctIFlAoLzWJgsrQtClWqpNc8TsvymTbHRn8edGEZzS21d8z4biWQwyplKQmwobIDjmBkBwXiyboW6rjuriVk08Vlrz9PQm8KKF7SLDX6jCGEXrcVn74Rg2V/LS936laTAenV4hJvSilVq6vGKS7KWhrOUrt8Iwo4sk8BZr07khPfzG6K+vjDstIvICQrKSQMx29UWpuelmE6/NIljLPJeCwoKcGkg/eJmWVxXWr/PXBSc4NOc84vStyn0EMte+sJ7TBkpnBbf4feE2dA0aYmJWawTvdtLSlNqsUsUESqf6gPZD/AMNE/KCUpJAz7IadeaKEu8SunckmRnfWp1XVE1hL2iuBZ6dMIm5lIcm3RVlpXI+Iwp11ZWtWcncyuPOOf8RuMK0su958Yel1TW92Si26dYH7x+H72c3rnxo4xVrhiWkG1pabJJKtJMMj3gofKJpP9VX15zt/G73nwhlMuoB21VJOaoi7ffWaw+mdZWppSCm0UgU7IZ2BR+UTGMXZQX1VVStBWEMy7RUHFWcVZyjfnUe4QtgBiZWxlqdmzkNV0QcGz0pLNvLRal3mE0rGDEaN6pPbEgl65iWZ3y6NZObvhcw5nUc2rZuZWQw3e6vUIoyKS7SbDQ2bk6j3XK/4wcfaxSG1LWE6QBmh6YxJZkWU1Kaw7MyEs4wWFAKrmUDEqf6gETI2g/Ic55L/AFz9Vw0iVVZeJyTAcnlTE27obaSSIdaRKb2lEAWhZvpWE/oVD6tbivrEsFZrRPyMTRcZDjb6zULGSsaIGGJ9mxZTYlmc1dvRDbRbl7ClBNmxdGLTcp9QB/SICUgknRG+cJub0Y28ZXVG8pFGIlE6NK+ndwkIbVKAKdFSEnTdmgyrOCHZZCuNYaN/yhLD0qWZdiz7MpKtA6YlQbjj0fWJn+3/ABHOeT2PH6rgPNGi05jFmXmJ1w7HFRNLn5okFAo2VWjxhCf0Kh8anFfWEuINlaTUGLDco1dxnSSEiGHWppshCbJqkgE6xFllpx4ChS4lMNNYZwUhxdm0nLjF4MwSy2tWoVJ7IS1ONtPzR46GzQIGo7Ylp+VRikzAvRu4RVtp9ID7CbS0JUf+OePzf/zT4Rvp55txo2FpULNUGtRoiWddVacU+kk9cTP9v+I5z/6b3f8AeG1uoxiEqqpOuEtSsx+HgaCxX6Zom5xieacasqXkOVNM9CIl9tR8jE0P6qjuYLkeS8FOujWM/eIEk8tQl2lEIQk0qoa4mZ501CHFNNtDWDphtnCi7Tk5VSU0pQZ4cwfg9gSyc1UjLX1xvzCqsQwL7KjQqhEg5LqLZNltdKX90Oy1ahJuOzcmT/Mdu7Uw488kLGKICDytkcJgVKf0KhW95F+Uxj6QoOg33GJUfHWJo/HTnPhBnPYVb+h7oFTQQJeTMxMPpOXkXQm2y6y2ahSsxiXWbrLor2w4ffSFfL7QlKlWQTedUPzSVDESksEJobtcS7qs63r+uJ7TYm69tPGMHTHJcZXZ7AYxDHBJCRRVmpVHtplXbTwht7Ccy0l/Ohu1m2wtx6hDl6CNW5JNaXF2vqfCJtyfUUNCym0BeCTo7Ix0thYJRas1cTp1aIYTMT5mraiU0N1B+8IV7iFK7u+Jhz3nVH58552TPtWvt3wQc4hmYl52VQMSmqDTGE6YCkvvulJrZTWnYIWtQsqKiSNUSE+PaN0V9fHcel0K4N7jCG3k8ZCgoROsqZUhx9xK06QKWR/+YwS9pQ/Y6jaTCFpYbdUpVBbFQIsJdSyn+mmkWyFJQTlOueb4Yk2lWt7JKSrbd4QlCc6jQRKSSczLXn6Q8zMYPdmGlKtFaSRSkIkJpTaZXNaxdSmJWXlHsc002cqlLyYnp0+ya+/dzoY1LyD1xMt6Ldodd8PzUy2t1ZXikAHimmeJJqUTZmZlWq+/yIl1zFkTK2qvAa4eZzuSqrQ6M/j6Mua+rnE/5feHMFTLbbjKk1TaGyHUy2B2UAKyFCXqadMNPzC3GWUqygrJBGqkPrZIKbrxrpDVRkt5Z6vvEw8OLaonoF0S0vIqSJJxgBRu08asIwYppxx45JdToVDjVa2FFNdcOrzKmV0HnqPOhK03KSaiJTCLfFebp3wRKJDhXnQRWtIQ+4jFhPEJyAnoh/G4QbmJ65fGvuziMSv1b4sHp0edsOy+hJyej0H0IvW2+FkbLj4w3NNKoFthSFpiXewVNMi7hLWuHJjDGEULBTQNjugkXRMT5udfyW/PaYRvpSUspyl2oJwRhLHMnkocpDre8gkg2sYtF6a3QEi9SjElg5BuaRU/Tx50vymd2WNpHntjJl21OWwoOHjCmiF1eWlonJbF13fuBSTQjNDWFGxwzQsvDz5v9DGy66HSNBhxibo3MIJUzRPy7oqlRT0RU3w3Lp0nKOoaYRIsXMyws3a9y204ptWtJpDbM83vlKV2lX2bQpdGNs2W2eE6NUPP8kqono50oKjRtzIVDjYHBqykdHoFt78u9kr2bYqi+XcvbV3ekABUmCtX56YFw92Km8+gpeaYnM3R+3151h0XzcpxtZHo/heE72j6tZ5MZQtsniuDv9AIQkqUcwGmN/4RoZj2TWr7wp943nMNQ1eghsjgk5TnRBCDwTWQjx51pcvxaslwbIx7N8s9lIpo2ejvaaRviWzWTnEW5Gc3ss+zXGQ6wofqPhFqen2GU7PvBTgxrHvfzVQXn1laj8vQCUipNwECWSf4yZ451DnacDzpyVepVqOqFMPC8ZjrGv0LDDSnFfCNygUR1xU3xjWpdakHNtih9A4YnhmHAo17YXMOnKVo1c7aiBJTagicQODc96Cw+iyofPdMvjDirBVZ0Vuh2anVTGQsJAapU9sSLLSplKZgWl4wioGiJtxkz1WBnXZslWYRKJfeQgyqSlpATeu7XEwXEWFF1VU6r938SwlREsnKSlXLit6WUerRzvCkkgi8EQJLC1Euj1b2aKqFtnQ4nN16tzfD2PUuhTZSkU+sNS7BcU2o5RWKGmmH3BxbVlPQLolJTMt449zuiTddl3UvSw9mkUX0w5MKFC4qvRAQ2grUcwECdwuoWuQzn/eMrIaTxWxzyxLgx8vmsK0RakX96vn2avDwj1BdTrbvgqbUtlylNR3At9wrUBSpjgJZxe0JujHYRmG5ZsZ77/CC1gli2vS8uC6+4pazpPPWjc0uzqVlRSYlGHR2RlYDlj1j/rHAYJl2z0/aMhTbP6E+MW33VuK1qNf92H//xAApEAEAAQIEBQUBAQEBAAAAAAABEQAhMUFRYXGBkaGxEGDB0fAg4fGA/9oACAEBAAE/If8A1dP+5o6jgVpwhIvCWDzWFFxJR2A701BvSiCluJdBhNMIJeTKgUJ775UFARMT3mg6YHKtBhK8grpbHlbesEzIlvj8vTZPxYtPvuEcnGlbZBl3U/r1hGEC7OlNRjFncqZCf+DlyoIdLIgX5h1Vdm20tz094qxx7kNXakFpGW+h/wBVnR0bvA+qjpNA5FGnefTUJPK9saikauIE6lcYy6fdSEoZdJcaewnQBCwOFr2tUWN3F4l8OB6CEjg5HactqFZXjDvNu57vYjBD54VEq5i/eBz4hAGHa3XFWgqZCk5Lb/wUbqCgQ3WsxOWIbfDC1BRudi7J6a5aUtYVqGLmDCmKKaZgCAEXd9qUuaOYh0IOXoJhQEqcqjoIk4sNpS7artNFSQ5MpqITQin48Nvd0ujRI/XeRX2mLNBWpMuneHw8KEoJeGa3Ke9YJCMQiQt4JU4o8wLDPMcBpGpLdEnfBU4duz+aSE2aOxTTQLMp7lvQ9kwMGMeiS7xRiHMXGx02o85wpL27NKQQ1yjnw1oicyhpxPr3ZDqHMBv2x6VOOD93OjdaJsgZlxW35q0GQiwsk5Jw+KPCYJ3TYbh88pertXIFJqF8c2/Io7AASY+DkVOmcjzQlzIsHyo+p2ZB1x5pKAvQi3DQ+afomB8TZVbGYkO7G+NJpTvYAOmrZaEQSg5lHmuJiDD7bJSfngcRMvdSqyAZrlQh/wAoavanCiaBy5/dRAFCiMkYnenaQkMJb21qSJobCXGDM41F2xoNPt5VipBXI0ND+UcFhbvx2oBN5Mat/NEF1FsCI3A52op4QwzRLoYTjQKKIMKwerjUEWhudj1KJbRQwt+Tw+6o3ydWGKOl3kVKlkNMjpVkZcwW9OmUSORkogZisRPs6UYwE3HN+Dd2pAb25eUf2e25eJGXLxNEgHSDB54lGqmMTQkvmYZ4VoAct8nV5VAjA6IsGcIwimQcW7qd7cKIjCM+6boXF1n8QKZYcZCwV7HpY0CYBM4woBpNxlpUL5HIH8xP5EOLBxttqgmEhYlu8d6zeuxYN3Kl8oA3PpKgmnAcMnh5CnJrQw5jSjAoTebn+46ViHa2yhDUI71McO0TzDyq243Kxd590W/eCJcahuBGp/ikDbI23QjDGKLXNwxeOxXP6PIZt5Si1u0YzDL0PWl5utqXD+JtrzsT2pTDZ7DRokKLJheuUxwGw91fudMwRW7rgzzjpQLLmof5JQy+AgYybNqixrkTwKh5JcheLCvyo/IYG41ZF7xqx+G/uiR7qvCl5JOrLdqnZkbDCHahu0BenZU/ll+wOjLGnfh5g8Dn/E14f3U/bCU5x35zQSNxgq0/vNBGiW+x6KKdyJipNYf6jeagYhTzu9LzCSod0YBnQAoSSZJmU2vUPAUIkS4bzV434Ns+HuhoiA94Tx6A9V0NgGNS6HYxPQ8NCgXEZCtisDWwcbeP463Cjn8rcmphLgrxqvNDRjJ88796kLHDg9TIbw51xPGl5sOQqyNSTLKQoUZFmrbL9sB5oBT8nkLLLLRvREUMMlja9EHMDbjiFgcq03i4MeHVt9S4+5+C13J+6jRmLdsFSTpUJTLrcGRjV/FuXdGJ4rTWdzT8VsGByE95o1EywmGrRILV4gRliYnorGII5DsnSlNWu27F+0axqNMB5dD8MiibpfRbaDoZ/wDfz6XfkF5B4VhWMpKcJyoRhizwn1YT1wrELu3E+qvRZnqfirSwEXCUe5+Y9S385ZAT8UnM/wC+NPju3DtNnLnUj/7H7pkQwU0nLhR4uEhVhPsulj4RmSMjw2l21S/liRAvMs/r1YUw53/io8142vH5lFM+3xKxy9CSWKtjQnWgsCotoZ/so9NwGOEr7qSs46GaoUzl7xjXktSgExKaGbeaS7fItVtonrG9ztN+SgCTQ1osz2msWDuzX5ThV5GThYAX3iwegkYiUPVUSsAcRDvFJY0XZCwdprGPBpTcbr2TfeicL+kCxrXyRFMcJjrVmCwCVoiAbw+UZPO1Dn/6h6m0Yz2PqjJleARrutNars71bKOsguh3MXCgWJAkQ4be6N2XOK/HGrymbEiVsGtgcbxVk2qIiTp0phuwdKAOYEdVLXCNiJUldt4sZrsNTHFTMBjWfjGprCsFNukOtXtJBEvbC8NtaCLaA7EFLW2d0UvOz83b6xQDAjGXqUzj4PtUIN/YlPIX5egQaykCAsGLKKmS14EwNOHujdtYUUAdNDnCmJ44IdhT2Uz4sLD4IVdzZPz+anXz6xn59GIjgg4DsocCkTI7AcYcGo8aOgkErGWJ2KK2RokjAEYQA31of7SXbWM70AhNlzS081K1VxDARnRpCU6yJPTfw9h8NCROGDYJWcprxaPgKd48UMUElbVg5bsC/FATl2APc+qlhtHyaCBpLsTBUXJEZ3AkQUcT+aEJo37U/hw8VPB2K7PNBsCi5JxqZi2E3XpyAp6iLLd/7VoIg35QdQvOjF8KaeKOoUjGFMMuVWiYWWR8KS8ZZoeSfxSxaHkbRxPTT87uf6UHlJzpRkezCsjHBBbOLFWOTGEQJ43VbT6iiNrgHCXudYM5+0qpNIkJU7MMhYkBtvR6paUc8ioKaARKcKMCG9aNgd/Qd4IGNMyhZGWtRmosZgkA17PRnSz2NPIO5U40NhufirCQiC78SrvppF9ybqnVGcpuhHE8qHiSBu03P37eKmxKUGLXD5zq0fitsMSM8pqe+5Duq2aAGtAPVeFKrKs+55esM8hbvFWUhLgf6U8ekKGmP84UlOMqlTsc7moMbwOBQbWmI6UcMTPP/gnl/KDDU5W0ETo8JixGdLx8I6RKSdQDMw1bZpS4shwUAXrUkkl8bwqUErtg9qMv7LbLs0yuFOP0cZTW/wAMdaEQnggxNCR7OTEdOt7ofuAbcaOC0Wzg7L0oBw4OvM8S9MB8prNzvRaDkmwWSTo53sVaFZTh+LUWQ3qc3g9P4vCCu7Bm6HRQRCWMzR6daMsNqK2FsG5fSo/m0IXZBfKxSBEFsaUe+fxcH8YFX3TnQIZbyxWY/ryTljHcpdznetCQzFGSkAZqtZeR+bEHt1e6dkNZxdPjU9a3NlDByn5anJpIgSsMeXosBUoxGjNMKaGPRvw/gByklx0SkfkZkuyDQ3ZRU+VqoqZCtVqZMJgy8X7OKjAhxg19MOvoIFc6qk/6DlAWMmXpQeGUiZLrZ4+KiNnknY7e6fmIPg9Y71biTbllyZP4gAbS3NH2qHCzMB+dv6ZsiACVajKtsSP+d2kCKXVf4ExexqGf6ePusNGQaK/UJ4j/ADbtZK5Bctn4pioi0tw0P8P42ByqhU+wEVfmOBUu/DMMofw5LFtmXPCi0mzB16vB7rfqvuDiUJMuTAm/2NuH8wMMSuhoTibNWU8FToDfopWzDsFLdjjLHnCmf3IcHrjyIKzSZOA0DI/hcL4BKulITBSWP+WBvL7t1D247jXTpWZcMvKH8RdYlJIPSBO0FUyFarROekrFuhi8qCgImJ/EBIuGKcIauXWpOSWyDIPdqSREuJU4YzH5xOfBZXRDU1PVFo+Ol1ENDCvDZUVtkV+0gmHXKrVMpJhgsS37FTs4OJIujLnSmBibGq3qHgfsCTTbOrDWbQNXf3e2d5CEdawlEHNu5PZpmtm0/wCj0dyWY8GLyjTSgkkQYl8C5UEZjBMMJ2Kz6bVwg9O5TYHESeLKs5b0ZpRg5sqY9cDlaU3xDid9W2GtcdFLG7q+8jIsY9xoPxVh+RoJ/M0UmqRn+OParwILFjT0Ptg5JpShBuY7sKys2RerB3ou6kEx+XsVi5kTsaHvUEUG24XwrlD58pp+VN6QdlYMPg0UgTxPKt+BGH/rD//aAAwDAQACAAMAAAAQBBBBBBBBBBBBBBBBBBBBBBBBBBBBBBBBBBBBBBBBBBBBBBBBBBBBBBBBBBBBBBBBBBBBBBBBBBBBBBBBBBBBBBBBBBBLBEABBBBBBBBBBBBBBBBBBBBBBBBBBBBBBBBBBBBBBBBBBBBBBBBBBBBBBBBHUabhhlBBBBBBBBBBBBBBBBBBBBBBBBBBBBBBBBBBBBBBBBBBBBBBBBBBBBBBF6ZYxxXqrBBBBBBBBBBBBBBBBBBBBBBBBBBBBBBBBBBBBBBBBBBBBBBBBBBBBBMZyYzBEduJBBBBBBBBBBBBBBBBBBBBBBBBBBBBBBBBBBBBBBBBBBBBBBBBBBBB4z2DBAWY6JBBBBBBBBBBBBBBBBBBBBBBBBBBBBBBBBBBBBBBBBBBBBBBBBBBBDuUrBHbxetaBBBBBBBBBBBBBBBBBBBBBBBBBBBBBBBBBBBBBBBBBBBBBBBBBBBEeNsDwzjWV8oBBBBBBBBBBBBBBBBBBBBBBBBBBBBBBBBBBBBBBBBBBBBBBBBBBBdlLKiGzFQvrBBBBBBBBBBBBBBBBBBBBBBBBBBBBBBBBBBBBBBBBBBBBBBBBBBFtVgnjUKFyFqBBBBBBBBBBBBBBBBBBBBBBBBBBBBBBBBBBBBBBBBBBBBBBBBBBUPgbWpFFWG1BBBBBBBBBBBBBBBBBBBBBBBBBBBBBBBBBBBBBBBBBBBBBBBBBBBQYVjBAjKU51BBBBBBBBBBBBBBBBBBBBBBBBBBBBBBBBBBBBBBBBBBBBBBBBBBBBYjHJTRsrTQBBBBBBBBBBBBBBBBBBBBBBBBBBBBBBBBBBBBBBBBBBBBBBBBBBBBQIBiGJCBCgBBBBBBBBBBBBBBBBBBBBBBBBBBBBBBBBBBBBBBBBBBBBBBBBBBBBBZDHP7ADSBBBBBBBBBBBBBBBBBBBBBBBBBBBBBBBBBBBBBBBBBBBBBBBBBBBBBBAmTnWGbBBBBBBBBBBBBBBBBBBBBBBBBBBBBBBBBBBBBBBBBBBBBBBBBBBBBBBBBBSByiBBBBBBBBBBBBBBBBBBBBBBBBBBBBBBBBBBBBBBBBBBBBBBBBBBBBBBBBBBBBBBBBBBBBBBBBBBBBBBBBBBBBBBBBBBB/8QAKBEBAAEDAgQHAQEBAAAAAAAAAREAITFBUWFxodEQUIGRscHw4WDx/9oACAEDAQE/EP8ANlyLdKYZL17VNifXvFJwY85RQVoHB0O9AyLc07FFCuJPStGYSsv+CtuGTU7nnGAM+h3aE21iHb90pjqTbWgImhGM1IYF+vapLLAZaKAZW5btRE5mz2fNjJxdToUY9ypdliI31O1DVnR058eFJSlWFZNm9ANNqOn82oiG+ku79FBbu7P7hSu/NSlZbvNx0p5l9KRPIcX9dpmrL4DmmGJDh9UhMlWdmkIyGT1xUFd9gsc4ri2x5aeacRGroRHCeBRTgLiS2dzlNOD5vN/ngYcZji0zzLMG+l+HzTPVH4kpDMqPsrITC2Jnm3qPgHpfzSxbBelIli0xPvsVciR4RerG3+LUihqKbAS/L0gpBqXTY0/5SKWg9vuvSM+zRO8pLb2+60qWxjEVIbPM8eZ9VMySNZg+6UEKk686iOS/LS4shuRaOPpEazQYDIRp+2pEnq1nvu78uFO1xfFZwmHaZ2vTIRGNI12qweL8+Z4ji+qINmNN/gpYTAxdmb5qScGpkqyg9c9KTUE3hiOE89Klll1tAdOtKZhMW3/tZ2y+KSCOVf6rIzjWfmlK8X58zv4gnuVt+j+61MA2daJsm/vehT2ZfftTeckD7f1QDEdY/WqKsEkca9Ch7tAJG3GZne1veowMEazglvTJXzOF2tFzjlOcWosAQRE2xw3aPArP108Hi2aRtZVoiYe1LOys3b/yt57n4KZRfm2QaH61elYPX8+a5yrH6pCSamOHodGnWYp3KhqNcigbAz+407urMq4tbvrjp5qw2x7+lK8x4BLSYfp4U6WHC9F6odfaiAEDrxfAU749vWnfM+bMNYYd+HakUOaB61LAS/eKhVziOcUZDwAADE6u/m4xQXU/L70CHmLlBZLzL9VpGxicfpqQz/Z9KOxjqefbzpmVFb/QP1SpHRb4pFL/AJz/xAAoEQEAAQMDAgcBAQEBAAAAAAABEQAhMUFRYXHRUIGRobHB8OEQYPH/2gAIAQIBAT8Q/wCbbhX219CrsJ5d60k8u00HLk8ZAKtqLpcur02OaUhCzr3c09iyMe5XNI/vOg7eQz/aDauHR7PjGde4n0UpvhMm9vzRDQi+nr9UqkBZyW4qB1be3esESuCkF8L2sOxz+tUhr6O53PFnBn9hq0jBhDk6X3rRRZmdtHvWwy0mvTjmgICruEty1J6qEtP93pyFtYNjndoGMBufuaADr4qhrBY6GfejOP2oidZwfrFATAf4iIJJhefuiIsC5uUBFljyZoIR1Ld6T+vR2i466+KcGlWNmeY5aWM0Mw3xs31irx3g6H9/xwzueD9aiGMIl21tz8UHG4j7w0DeBP01gFlfMR0LedT8s9G3il53Ie9EQm1zHpu1biEN5tV67fN6ASNCBZWDyse8tMybGuq6/wDtEE5U+Z+CvOcepTO13Yu9d+KuRm7fOZKiN3iefQ+GhYwqWIl+ShIQMadPmpDKAx0KDN0lmbzx5zOkVGihV13/AI0SG2x2rHbY268tZ2w+auBRJmYjdihbWc6zpvTnpnx4nkuH3SIuTrt6S0JuEpMBEWxUAnYoIRAC72x70OIhaSRxeOmtQAQOLyvf4qJAgvfb+VeG4+aAqdK9vurXBnQNOJoR0T48Tt4EfRpH1+nE2qKMuaU2Rkt6WoBmZIPTvR+MMp69xUoSnEr/ACaiOSGeO1685r6FJZEPERG17+lTlZZMRlgtRADTxOZ3lMhkzeMZvUcqKWYvnnYq9tbPv3/wZNygHCBDMxJ3o2kgIILf2KNDAg+WkLH0GUur096nurL5fjxXGBcfdQRgqIb51NSjeJoDBJQiYN4pNRWO/lRkdKgUXK4SWPLPv4qY3w7edCcT/jG4Ofsc0aiXNqbES9vWkRJXtwf4Y2Q+3yoTxHixXGeTbnvQCRkp2UpSRDbjYmpE8Zk4mnIa/AHipjO9jbv4vmluj+W2pEynRs0l1tEH39U5ndbxn9FTEWzg86Ukz7Dp38aKgyVsQ6KfDQmbut/mgAg/5z//xAApEAEAAgICAQMFAAIDAQAAAAABESEAMUFRYXGBkRAgYKGxwfCA0eHx/9oACAEBAAE/EP8AldDVWIP1GPcTF42330Un0wz+QR9KY73ZBlRoD9jCSBLbCe4/hlJyHaOgD9Lkqi1RI8oPiJ5xYLIhCJSI/mZ9JOekAwr2UQrkqX2QHMMhOmZ3oAe0C42N5F+6zilcnBCUEQsZHByHzalVfHaM6uOck4gG2azRS+R6gnDxLt1zqT/BwqwhjSEo/QhxLE4rJd9Bub8PC/mL50lKPt+B/wCF4F6BMTkwx6gLaVrGyQC/JQFBdCsbFkWApVJIx4w6Y2o7vRoCEHTiRs9RR1iIlyOPun1DjACFLuIPsLwcdgZcUkwoajkmKeEbI3TSKfE+i9AFE6e7s66jBm/yDlmS46R8ta/LiQOP8qeAWvBkcQVKhmHww+MtbgVzkIMCWoltX1yD5gX2TEiAE53ByAjexkVMN84untkusHMFOjOEcQcrZ1cojgMpDAy74cKsQUNK01jVhIpISAIhu0UyeVCCaBqRpUV+jcHOKIAG1XKdVWY1pGIABkSRKhKMMiqFRHzenwMhwL5COG1H8h+WgrBvF8LjSuDCbAE8vqYst/2a21cLq9DcKQJ0H1J4QRgKYZV6QPSD3gFLA5JFgoohITxzhOaws1LRvWaHrE44xrJkyyUfVw++Sf8ADEYXLpm0eo/TCDilMmRGSV9T9F+Y0mE8bGyg2uH/ABhCWpAkaaGTdL6egS2ZVK4jJWnXgUVeevlxY5yCrvtvYw+Jc/lnS3TEgPYCfs5xl3JPEsCdtvl6jJpUmkMgiRBmIk7YS9pnYKoIlz7WxG5WSAIwOynNqTCskjuHQef8ryuDgGTAg2Bsc2HlcA+BE0CU9ujvEcwSEI9Aga4wUwdHJ0sh7I4I6altBf4PNcahbHNrAJ8HHDmHWSX2lRhEAJYe6249LEyq2i3ZwYRRBUBiTo6bzqBgioIAZQHZI4+kOP0U14J9QbwOJjQlCjuT8q3GgMcAPMuQovqmTLLuBrwGseTnQLZaEq6AuKawkjz8xAtIYrYsLyWjn4kJTJAsWM85Gsi8DMqhteVXGKCIhLC9qCat6d49MZRUkgaCaD7TpF7iqGb9nkY4Srs9lCoCXwvsG1QilEYXA2vhdzGwhhszSLbNOJN1zdyUEghMhUV1ga6F4Uh7nOqcYsADAgRet0d/lQwK/S2BvoPE4RjpF+OvYB74XqCHQIA3pdJi+3jrWZcFwcnEZKy2EyDYmVBjKVlxSDB0MVHaKdndiJk0BUen0/bL96BCbmMoJ53O4tGAcDOMEigIQeSEckZZQoG3CTAF0Mg+pHQpsCZz7HTCiLPBhrm/Rir2A4KgL1NPhxmAGEaRPylfBE5mvI+BMvqIJarBCfRWRYZwxNMJhkieciO53RAl6Db4yMLUIqKA5ZV56vtSz20FJAU6757C8QD2HAUyHg0E0DIauSw7B0Pc3kKUPUhkRGVEUw2YJqaoYIn5FTgkKfukK6SJZYN1LhP1krnSqvWS4FuNpQJEaVIcHskq40BTNqUk+DApWSqCVQeAn8ondC06R8JnHVGC0IYj05JQbJApJlY0dLUYh5eaTQQJP/vjw/I5CXUJFYbCMjzIvRAJ5PgcmqX9IpIeAo8fYvEPxND2pWUdhzICgHC5oBU9vPpALevApCBRVLFDKRsxOcz0JRssmyfVxo7hEgC5hA6PPF4uULQX0CL1xg5SmNEkFbdm8m08tKrJAVs4PahMTAGBHq6vPFq1ECfJi3Lj7VUy9H5QkOoEcSH9A49/8/BB+BlEQfGUy7BxRi+sVFluDmJgeLjFeHip+xJJWQ5zisnpk29H7AxOoDona8BK+MjN1G9Icij/AAxm48/QbI7VUmLsCxghDVoFChTDb7FfT+zFV28uNAadcMl8H6MD1jtRn9eEJGuaxoBQqXTiMRYlgUCgKRerKcKBAHKiR4TaJMtDSeU/f8obBUC3Awe5+gnQxqKapKpNjvIuOABbFgm+/cyQKwPAg8BBilwsFBIInofP2EYMwkGqFcGXlxCYVIgZeZASs3kelqkUbhR6y0mDFZwLaWh54dGJDRgbykoeEzkOOCGX0wmAGRKRMjLEk6UT5yoILTPgGJQgTZnEQCIKkWTFMXE5LTbmYVAgIIflOOHK1LGKMYDIhD0GHf5PqcHTUsKzzm5MPlFB85EjNxC3gLGiDtWAUR5Yk6BNHDqIcNMmFdkn9YRMy5ejGJuq7iSJAolxuTcham0HYEjJ9JNDdsiv/wBPoyDdZVIMj5Cz0shpsCX0bv8A0zOJ4Ptkf9Ro0Gvors+q2x+M+h+nP3MlQ18RioUIIB6Nva+pkdYBRDLohjCJCXwAZwtpK8tq+t9AAyVoJXtj5GQ3Ko1ZP0T8nLAEvI7i9P4wSWtoAqQz7MlKkzqfDTJqyyayVsImDE8sFckZIk1npeGvXCBCSYrDWFhl0YjMknWTC3iQYVApNsIQRVSzkcF9DgFNvJGtWYepE3UAtYEtOAZSudslecGEl2miXgK/f0YnFqWtCqQO9EvGRu6CArgcTFeH0OSuKCUEv9ezAFjs1xhE2hz8by5jMYbCWYhcM67wGRu6QLgA1088ECzQYqS/uRz2JPM/v8nEhQCOySP1jBTKA2YqNeDEuEJADh5XyV7ZoKSSlZAb7o5qc/3nRgogKNSpWS5piY/x3w3BSSmtEiMWFkYn5FqJMxIBSRcINYTy6yJq2mGOvGcJNUDAsRw0eePiAVIdAG3Ly/jHNyl6nhiuY0aaZkmYW4m9vR9HIiGe5Tf4wCqAKxQXIgC5iLylwdWuhAA80rqcYDHhxDL3BSHcY227IGNQ/lGBhAM+RLHubliKeYWMHBKT5aqg9cR80+wydNRKd4JqCIdtv4Y56SncBXm/XE6SJ75TM9OTYSvL4AYDLocNVLIdpAhYAtqqxTUuwaanJqkloFKgNlNKoxFXSDyUT8qGI3nLSCFB20r9YrIhQ4UFUUQrUc/WMynaiov3iP8AUIEiWGmZ+ga9MbuFEkyhKQywANCW0AK4H5RgSCLdcpK605FyrUQMm1Xi4iNqNhg83xbvATLajRqwgrAfBrS4R/GTGTY9OfoCShaxXdoQ7gZJMVMRZwqIXSaig2yichZQsWXgigFZW5sHkoYpIrSBnDK+QahJChmos7w3Zpo7ibJXjfQG8OvgGMEEYmg9pMlCYcSFP5hh8/S20FKLFP6y9BkjvkQrYjO50zBi8JTdJUHLgRsC6yiVy5zUAEBRm3/5+T/vKSEVeqY2pgORG0OayK/3YQDeW+3CRGopBFJC0kqyk1dcQH6rjHh8bm/Jmmc7DAV6F4dw5FQXBis6f2my4L+8iJ1YKULHP/bBz1Y0dnxPtkKCAYEpKAzTlYER7Bpe4Vo+DIMPrsR2SOuDcvAuvJMiBY6AJ+efoFVpXtvylaHtxCiBiLayc4ToIaBQSWi4iY4w1DWTHTibjtr3xzZSD1N+DZS3mbMfr8nUsvxpH8DCkwK2IwmThGipAy0D0ndYkbvMdgFBpk/D0ZqUDZC6yJYEBFHyHw/QisCVsQnDFPZghBXSEZ8SZTF5V0KgYSehxeiR9RPkGPOQfoEoIqlCTviM6JLUPCn2Ew9o8IXf6AqdpjPgNoEbyBnzDZnknqiAHy5IwJAcUI+x84yBCZ0DQiV8dMjj6NwwRriaFhchiOWDL4COn0wiRPRujH+2sZoJlW1X8n96P9MHNyoC4qsh4K+2PEYc4RCG5ifQy/1kIA4NLJAecMKuzTZ5BDFTWs8uuICZfGfadcnuhZjzcsB6TBRTIRzTk7xG094GBaZCarxgMpGFogQUyChuZyHwVSYpKaJPO8SyOuCn9shOMIaTAepL3xjhQws8ku/QbnELItKgSKsugNGcGwRCgN8kTiMLHaVh+haflDw+ToCPyY82fTgAXyizN3olGDARgFTl/HQoFGBuqDAVF0Y7gLQopaVZYgmIwYqfte0jmWchRE+WU3NgfM/ZAMWu3wC3SNrDIu8rb0kOQnPQyhtkrVhiEsR8MT6iDMzNijSC71ktFUbgtGNPdmoUafL5DK6z1CeSPgILicBZlS7ZMARe2TxibKQ+RbISAJJPebRh2hgXyrk9UMqoCvNn5Ssvm+tV2oj7ZuxFKpOEIj2Azhy14aqoyQcy+hDFNQBkR7nIOwXsa8HCR8y6+ytIw75ZWfs4TCzD0dR8EAWCiDtM8iZL+RxAs7QrFbcoAs3a6dUTuDnGRCPXIA8xDxfP6a0UfKI4mcuqDNtyqruPVkx7OtJCVuEPo8Sdw6I9fEgfV/KT3cF0DJuoMnrDWP1ES1h/oH2N+IDy2lHglOw+DEbzAYDa3smu7d/cNHixBgANs4jLmaFB/Jy+EsMZuKsVVlVdv2QJgCaeB5peAfyvUcu0IS7YXkI+1yooaJm04Po6cMxfKzFqDh408T9hsyuXNAFritDTClNd2v5LGTZBGhlgdE++2/sVAh4Mx83Hol4yfSaO0NRqxB4/KyO8Ybluh2We5zmr3Zp0glQz8A2+0ZR9OnUpF/iTF5Vyw2XJnwDgywG0JjtH+FyGe0uaE6I58Ppk9dC1M7uCK0p3lLvijgArwH2GeqiQYAG2clySslCMJwFbsH5bMOBEbSgWg33vRDIsjwBHqSOGPZk2fYynwj5C6D1+hgN0EfA4gWdoVituHZBHINlk9k4sFkQhEpEfsvdcWsoW/gk6Q5ryGLHqVoD/AL3+WrBcQhEsRMayQJMDflQ8+msRAHTnjPyf+b+qthcWKKRyxh+0/rKYSfkya3ENMIuJF6OmCeV/IxTA24ssxgJjsoCmLAmY6HVU1NIiQlILs39UIHgWuWy+oTXjYopGrxDFSo9ijt/Li8NQDMgSxnDu0EKoToaLnzQxkV1Ksh0D9DXS/SIdLLMyVTavlgz6o0ms2iDO8vYOpA0hoZMfVltAQzxJrBZAwUQH0GQtcsmtJ0ApAuwKwulnaugMOp9OoZADHwPJ4MLXXLHIJ0u+OPzJ0mLEkhWMEchPBk1ZZMrtBP8AQdZK4aIlDmJlNTsSBIqEqwxVZd4kfrBRVBGiVwv1ZCfVkPdzcnRwfS2T39GNe8z90sXmvMTni1uRsArwEH5rT8wiE6BYekYAJuLnqI/rA8XxLWPfIhAgFw6gR+8raFJsfVW9IzcTIWB4JaPB/wAsP//\" alt=\"İTÜ Logosu\" width=\"500\">\n",
    "</div>"
   ]
  },
  {
   "cell_type": "markdown",
   "id": "565ff1a9-729d-4f90-9903-1090769aeda6",
   "metadata": {},
   "source": [
    "---"
   ]
  },
  {
   "attachments": {},
   "cell_type": "markdown",
   "id": "f3405825-b90c-40f5-8a37-564b5b7fbee3",
   "metadata": {},
   "source": [
    "# 📑 İçindekiler\n",
    "\n",
    "1. [Varyans Analizi Tanımı](#section-1)\n",
    "2. [Bağımlı ve Bağımsız Değişken Seçimi](#section-2)\n",
    "3. [Varyans Analizine Uygunluk Testi](#section-3)\n",
    "   - [Grupların Birbirinden Bağımsız Olması](#section-10)\n",
    "   - [Normallik Testi](#section-11)\n",
    "   - [Logaritmik Veri Dönüşümü](#section-12)\n",
    "   - [Varyansların Homojenliği Testi](#section-13)\n",
    "5. [Modelin Kurulması](#section-4)\n",
    "6. [Varyans Analizi Yapılması](#section-5)\n",
    "7. [Sonuçların Yorumlanması](#section-7)\n",
    "8. [Post-Hoc Testleri](#section-8)\n",
    "   - [Tukey HSD Testi](#section-14)\n",
    "   - [Bonferroni Testi](#section-15)\n",
    "8. [Genel Değerlendirme](#section-9)"
   ]
  },
  {
   "cell_type": "markdown",
   "id": "8ea9e578-486c-4e83-bf8e-381083b800aa",
   "metadata": {},
   "source": [
    "## <a id=\"section-1\"></a>  1. Varyans Analizi Tanımı\n",
    "\n",
    "[🔝 İçindekilere Dön](#📑-İçindekiler)\n",
    "\n",
    "Varyans Analizi (veya ANOVA) istatistik bilim dalında, grup ortalamaları ve (gruplar içi ve gruplar arası varyasyon gibi) bunlara bağlı olan işlemleri analiz etmek için kullanılan bir istatistiksel modeller koleksiyonudur. \n",
    "\n",
    "Varyans Analizi kullanılmaktayken belirlenmiş bir değişkenin gözlemlenen varyansı farklı değişim kaynaklarına dayandırılabilen varyans bileşenine ayrılır. \n",
    "\n",
    "En basit şekliyle varyans analizi birkaç grubun ortalamalarının birbirine eşit mi eşit değil mi olduğunu sınamak için bir çıkarımsal istatistik sınaması olur ve bu sınama iki-grup için yapılan t-test sınamasını çoklu-gruplar için genelleştirir."
   ]
  },
  {
   "cell_type": "markdown",
   "id": "cf119c33-4df5-4ddf-a843-0431fb646847",
   "metadata": {},
   "source": [
    "## <a id=\"section-2\"></a> 2. Bağımlı ve Bağımsız Değişken Seçimi\n",
    "[🔝 İçindekilere Dön](#📑-İçindekiler)\n",
    "\n",
    "**Bağımlı değişken:** Modelde açıklamak istediğimiz değişkendir (\"ERP\" değerleri).\n",
    "\n",
    "**Bağımsız değişken:** Bağımlı değişkeni etkileyebileceğini düşündüğümüz faktördür (\"VendorName\")."
   ]
  },
  {
   "cell_type": "code",
   "execution_count": 16,
   "id": "ccab798a-b85f-4d8f-82cf-720eeb1e5f4e",
   "metadata": {},
   "outputs": [],
   "source": [
    "import pandas as pd\n",
    "import numpy as np\n",
    "import seaborn as sns\n",
    "import matplotlib.pyplot as plt\n",
    "\n",
    "df = pd.read_csv(\"computer+hardware.csv\", index_col = 0)"
   ]
  },
  {
   "cell_type": "code",
   "execution_count": 2,
   "id": "eb80ddd6-5d9c-4724-84d9-89233c609799",
   "metadata": {},
   "outputs": [],
   "source": [
    "df = df.drop(columns = [\"ModelName\", \"PRP\"])"
   ]
  },
  {
   "cell_type": "markdown",
   "id": "277a33fd-1eff-4052-98bf-797224af0367",
   "metadata": {},
   "source": [
    "## <a id=\"section-3\"></a> 3. Varyans Analizine Uygunluk Testi\n",
    "\n",
    "[🔝 İçindekilere Dön](#📑-İçindekiler)\n",
    "\n",
    "\n",
    "Varyans analizi yapmadan önce, veri setindeki varsayımları kontrol etmemiz gerekiyor:\n",
    "- Grupların Birbirinden Bağımsız Olması\n",
    "- Normallik Testi (Shapiro-Wilk Testi)\n",
    "- Varyansların Homojenliği Testi (Levene Testi)\n",
    "  \n",
    "Bu testler, varyans analizine uygun olup olmadığınızı belirleyecektir."
   ]
  },
  {
   "cell_type": "markdown",
   "id": "7ddf5804-acc4-4e4f-a929-7fb7dbd8bd21",
   "metadata": {},
   "source": [
    "### <a id=\"section-10\"></a> 3.1 Grupların Birbirinden Bağımsız Olması\n",
    "\n",
    "[🔝 İçindekilere Dön](#📑-İçindekiler)\n",
    "\n",
    "Kullandığımız veri setinde marka isimleri birbirinden bağımsızdır."
   ]
  },
  {
   "cell_type": "markdown",
   "id": "3db63759-ea62-447f-91f9-22659e46c7a8",
   "metadata": {},
   "source": [
    "### <a id=\"section-11\"></a> 3.2 Normallik Testi (Shapiro-Wilk)\n",
    "\n",
    "[🔝 İçindekilere Dön](#📑-İçindekiler)"
   ]
  },
  {
   "cell_type": "code",
   "execution_count": 3,
   "id": "e9ef09f9-8bd1-4a16-baba-8e666c212b91",
   "metadata": {},
   "outputs": [],
   "source": [
    "import scipy.stats as stats"
   ]
  },
  {
   "cell_type": "code",
   "execution_count": 4,
   "id": "025f3cc3-6010-495d-83d8-4a457d693e69",
   "metadata": {},
   "outputs": [],
   "source": [
    "def normallik_testi(grup_verisi):\n",
    "    W, p_degeri = stats.shapiro(grup_verisi)\n",
    "    return p_degeri"
   ]
  },
  {
   "cell_type": "code",
   "execution_count": 5,
   "id": "8a890361-0138-43c0-bb59-f371b28cfcde",
   "metadata": {},
   "outputs": [
    {
     "data": {
      "text/plain": [
       "VendorName\n",
       "ibm          32\n",
       "nas          19\n",
       "ncr          13\n",
       "sperry       13\n",
       "honeywell    13\n",
       "siemens      12\n",
       "Name: count, dtype: int64"
      ]
     },
     "execution_count": 5,
     "metadata": {},
     "output_type": "execute_result"
    }
   ],
   "source": [
    "df[\"VendorName\"].value_counts(sort=True)[:6]\n",
    "# En çok veri içeren 6 vendor üzerinden çalışma yapacağım."
   ]
  },
  {
   "cell_type": "code",
   "execution_count": 6,
   "id": "336c0082-2953-4517-b624-cd702bdc1d9e",
   "metadata": {},
   "outputs": [
    {
     "name": "stdout",
     "output_type": "stream",
     "text": [
      "Shapiro-Wilk Testi Sonuçları (Normallik Testi):\n",
      "ibm: p-değeri = 0.0000\n",
      "nas: p-değeri = 0.0005\n",
      "ncr: p-değeri = 0.0064\n",
      "sperry: p-değeri = 0.0007\n",
      "honeywell: p-değeri = 0.0004\n",
      "siemens: p-değeri = 0.0168\n"
     ]
    }
   ],
   "source": [
    "# Normallik testi her grup için\n",
    "grup_adlari = [\"ibm\", \"nas\", \"ncr\", \"sperry\", \"honeywell\", \"siemens\"]\n",
    "normallik_sonuclari = {}\n",
    "\n",
    "for grup in grup_adlari:\n",
    "    grup_verisi = df[df[\"VendorName\"] == grup][\"ERP\"]\n",
    "    p_degeri = normallik_testi(grup_verisi)\n",
    "    normallik_sonuclari[grup] = p_degeri\n",
    "\n",
    "# Normallik testinin sonuçları\n",
    "\n",
    "print(\"Shapiro-Wilk Testi Sonuçları (Normallik Testi):\")\n",
    "for grup, p_degeri in normallik_sonuclari.items():\n",
    "    print(f\"{grup}: p-değeri = {p_degeri:.4f}\")"
   ]
  },
  {
   "cell_type": "markdown",
   "id": "4f21655b-d24b-4052-b494-316808565110",
   "metadata": {},
   "source": [
    "**P-değeri 0.05' ten küçükse, verinin normal dağılıma uymadığı kabul edilir.**\n",
    "\n",
    "**Sonuçları incelediğimizde tüm gruplar için de veriler normal dağılıma uymuyor gibi görünüyor.**\n",
    "\n",
    "**Normal dağılım ön şartını sağlamak için logaritmik veri dönüşümü yapacağım.**\n",
    "\n",
    "### <a id=\"section-12\"></a> 3.3 Logaritmik Veri Dönüşümü\n",
    "\n",
    "[🔝 İçindekilere Dön](#📑-İçindekiler)"
   ]
  },
  {
   "cell_type": "code",
   "execution_count": 7,
   "id": "0da97ee0-5409-4681-8fe8-69d7ef1499e0",
   "metadata": {},
   "outputs": [
    {
     "name": "stdout",
     "output_type": "stream",
     "text": [
      "Log Dönüşümü Sonrası Shapiro-Wilk Testi Sonuçları:\n",
      "IBM: p-değeri = 0.003561823396012187\n",
      "NAS: p-değeri = 0.5607991218566895\n",
      "NCR: p-değeri = 0.7909696102142334\n",
      "sperry: p-değeri = 0.042860373854637146\n",
      "honeywell: p-değeri = 0.008238082751631737\n",
      "siemens: p-değeri = 0.8759718537330627\n"
     ]
    }
   ],
   "source": [
    "df['ERP_log'] = np.log(df['ERP'])\n",
    "\n",
    "# Shapiro-Wilk testini yeniden uygulama\n",
    "from scipy.stats import shapiro\n",
    "\n",
    "# Testi her grup için uygulayalım\n",
    "grup1_log = df[df['VendorName'] == 'ibm']['ERP_log']\n",
    "grup2_log = df[df['VendorName'] == 'nas']['ERP_log']\n",
    "grup3_log = df[df['VendorName'] == 'ncr']['ERP_log']\n",
    "grup4_log = df[df['VendorName'] == 'sperry']['ERP_log']\n",
    "grup5_log = df[df['VendorName'] == 'honeywell']['ERP_log']\n",
    "grup6_log = df[df['VendorName'] == 'siemens']['ERP_log']\n",
    "\n",
    "stat_ibm_log, p_ibm_log = shapiro(grup1_log)\n",
    "stat_nas_log, p_nas_log = shapiro(grup2_log)\n",
    "stat_ncr_log, p_ncr_log = shapiro(grup3_log)\n",
    "stat_sperry_log, p_sperry_log = shapiro(grup4_log)\n",
    "stat_honeywell_log, p_honeywell_log = shapiro(grup5_log)\n",
    "stat_siemens_log, p_siemens_log = shapiro(grup6_log)\n",
    "\n",
    "print(\"Log Dönüşümü Sonrası Shapiro-Wilk Testi Sonuçları:\")\n",
    "print(f\"IBM: p-değeri = {p_ibm_log}\")\n",
    "print(f\"NAS: p-değeri = {p_nas_log}\")\n",
    "print(f\"NCR: p-değeri = {p_ncr_log}\")\n",
    "print(f\"sperry: p-değeri = {p_sperry_log}\")\n",
    "print(f\"honeywell: p-değeri = {p_honeywell_log}\")\n",
    "print(f\"siemens: p-değeri = {p_siemens_log}\")"
   ]
  },
  {
   "cell_type": "markdown",
   "id": "49e5fb58-a12a-44f1-9eeb-ef61c9b28daf",
   "metadata": {},
   "source": [
    "Log dönüşümü sonrasında yapılan Shapiro-Wilk testine göre:\n",
    "\n",
    "- **IBM:** p-değeri = 0.00356 (0.05'ten küçük), bu da verinin normal dağılımdan sapma gösterdiği anlamına gelir.\n",
    "- **NAS:** p-değeri = 0.5608 (0.05'ten büyük), bu da verinin normal dağılıma **uygun** olduğunu gösterir.\n",
    "- **NCR:** p-değeri = 0.7910 (0.05'ten büyük), bu da verinin normal dağılıma **uygun** olduğunu gösterir.\n",
    "- **Sperry:** p-değeri = 0.0429 (0.05'ten küçük), bu da verinin normal dağılımdan sapma gösterdiği anlamına gelir.\n",
    "- **Honeywell:** p-değeri = 0.0082 (0.05'ten küçük), bu da verinin normal dağılımdan sapma gösterdiği anlamına gelir.\n",
    "- **Siemens:** p-değeri = 0.7910 (0.05'ten büyük), bu da verinin normal dağılıma **uygun** olduğunu gösterir."
   ]
  },
  {
   "cell_type": "markdown",
   "id": "2767ad1e-6881-4647-bddb-387d9462d945",
   "metadata": {},
   "source": [
    "### <a id=\"section-13\"></a> 3.4 Varyansların Homojenliği Testi (Levene Testi)\n",
    "\n",
    "[🔝 İçindekilere Dön](#📑-İçindekiler)"
   ]
  },
  {
   "cell_type": "code",
   "execution_count": 8,
   "id": "d417e942-dd6f-47ea-a36f-c2401df9a108",
   "metadata": {},
   "outputs": [
    {
     "name": "stdout",
     "output_type": "stream",
     "text": [
      "\n",
      "Levene Testi Sonucu (Varyansların Homojenliği Testi):\n",
      "Levene Testi p-değeri: 0.6995\n"
     ]
    }
   ],
   "source": [
    "grup_adlari = [\"nas\", \"ncr\", \"siemens\"]\n",
    "\n",
    "def varyans_homojenligi_testi():\n",
    "    gruplar = [df[df['VendorName'] == grup]['ERP_log'] for grup in grup_adlari]\n",
    "    stat, p_degeri = stats.levene(*gruplar)\n",
    "    return p_degeri\n",
    "\n",
    "# Levene testi sonucu\n",
    "p_degeri_levene = varyans_homojenligi_testi()\n",
    "print(\"\\nLevene Testi Sonucu (Varyansların Homojenliği Testi):\")\n",
    "print(f\"Levene Testi p-değeri: {p_degeri_levene:.4f}\")"
   ]
  },
  {
   "cell_type": "markdown",
   "id": "ccfdc6fc-f698-402b-9c52-5ce747859237",
   "metadata": {},
   "source": [
    "Bu sonuç, p > 0.05 olduğu için varyansların homojen olduğu sonucuna varılabilir. Yani, veri setindeki grupların varyansları birbirine benzer ve varyanslar homojen kabul edilebilir. Bu, varyans analizi (ANOVA) için geçerli bir varsayımdır."
   ]
  },
  {
   "cell_type": "markdown",
   "id": "cb7c97a5-e9d5-4a79-a206-30e81e26af91",
   "metadata": {},
   "source": [
    "## <a id=\"section-4\"></a> 4. Modelin Kurulması\n",
    "[🔝 İçindekilere Dön](#📑-İçindekiler)\n",
    "\n",
    "Varyans analizini (ANOVA) uygulayacağımız modeli kuracağız. Modelde bağımlı değişken \"ERP_log\", bağımsız değişken ise \"VendorName\" olacak."
   ]
  },
  {
   "cell_type": "code",
   "execution_count": 9,
   "id": "470cdaf0-e93c-4881-a076-a22e491fe11c",
   "metadata": {},
   "outputs": [],
   "source": [
    "import statsmodels.api as sm\n",
    "from statsmodels.formula.api import ols"
   ]
  },
  {
   "cell_type": "code",
   "execution_count": 10,
   "id": "44438abd-a012-4ddd-8cd5-d9121680d9ed",
   "metadata": {},
   "outputs": [],
   "source": [
    "# Modeli kuruyoruz\n",
    "model = ols('ERP_log ~ C(VendorName)', \n",
    "        data=df).fit()"
   ]
  },
  {
   "cell_type": "markdown",
   "id": "393bbbc2-6dd3-47be-a8aa-eaf6c21d7f08",
   "metadata": {},
   "source": [
    "## <a id=\"section-5\"></a> 5. Varyans Analizi Yapılması\n",
    "[🔝 İçindekilere Dön](#📑-İçindekiler)\n",
    "\n",
    "Varyans analizini yaparak, bağımsız değişkenin bağımlı değişken üzerindeki etkisini test edeceğiz."
   ]
  },
  {
   "cell_type": "code",
   "execution_count": 11,
   "id": "a189a88c-921b-4838-8608-6a2005cd6300",
   "metadata": {},
   "outputs": [
    {
     "name": "stdout",
     "output_type": "stream",
     "text": [
      "\n",
      "Varyans Analizi Sonuçları:\n",
      "                  df      sum_sq   mean_sq        F        PR(>F)\n",
      "C(VendorName)   29.0   73.041565  2.518675  4.11651  2.055708e-09\n",
      "Residual       179.0  109.520625  0.611847      NaN           NaN\n"
     ]
    }
   ],
   "source": [
    "from statsmodels.stats.anova import anova_lm\n",
    "\n",
    "# ANOVA analizini yapıyoruz\n",
    "anova_sonuc = anova_lm(model)\n",
    "print(\"\\nVaryans Analizi Sonuçları:\")\n",
    "print(anova_sonuc)"
   ]
  },
  {
   "cell_type": "markdown",
   "id": "9439deb9-283e-47d2-b822-7eaf54485039",
   "metadata": {},
   "source": [
    "**F-değeri:** 4.11651, bağımsız değişkenin (VendorName) varyans üzerindeki etkisini değerlendiren testin sonucudur.\n",
    "\n",
    "**p-değeri:** 2.055708e-09, çok küçük bir değerdir ve p < 0.05 olduğundan, gruplar arasında istatistiksel olarak anlamlı bir fark olduğu sonucuna varılır."
   ]
  },
  {
   "attachments": {},
   "cell_type": "markdown",
   "id": "9860d79b-0b6f-4efc-9f0a-2ad13fb58a38",
   "metadata": {},
   "source": [
    "## <a id=\"section-7\"></a> 6. Sonuçların Yorumlanması\n",
    "[🔝 İçindekilere Dön](#📑-İçindekiler)\n",
    "\n",
    "ANOVA sonucuna göre p-değerini inceleyerek, bağımsız değişkenin bağımlı değişken üzerinde etkili olup olmadığını yorumlayacağız."
   ]
  },
  {
   "cell_type": "code",
   "execution_count": 12,
   "id": "b486c7a0-6c12-415d-aeca-4420b7baa18f",
   "metadata": {},
   "outputs": [
    {
     "name": "stdout",
     "output_type": "stream",
     "text": [
      "VendorName, ERP üzerinde anlamlı bir etkiye sahiptir.\n"
     ]
    }
   ],
   "source": [
    "# p-değerini inceleyerek anlamlılık durumunu yorumlayalım\n",
    "p_degeri = anova_sonuc['PR(>F)'][0]\n",
    "if p_degeri < 0.05:\n",
    "    print(\"VendorName, ERP üzerinde anlamlı bir etkiye sahiptir.\")\n",
    "else:\n",
    "    print(\"VendorName, ERP üzerinde anlamlı bir etkiye sahip değildir.\")\n"
   ]
  },
  {
   "cell_type": "markdown",
   "id": "a6465e71-a037-4cfc-ae60-0cd806721bb9",
   "metadata": {},
   "source": [
    "## <a id=\"section-8\"></a> 7. Post-Hoc Testleri\n",
    "[🔝 İçindekilere Dön](#📑-İçindekiler)\n",
    "\n",
    "ANOVA testinden anlamlı bir fark bulduğumuz için, bu farkın hangi gruplar arasında olduğunu görmek için post-hoc testleri yapacağız."
   ]
  },
  {
   "cell_type": "markdown",
   "id": "eace732b-c7f8-4e71-b2f3-96ec1940dc3a",
   "metadata": {},
   "source": [
    " ### <a id=\"section-14\"></a> 7.1 Tukey HSD Testi\n",
    "[🔝 İçindekilere Dön](#📑-İçindekiler)"
   ]
  },
  {
   "cell_type": "code",
   "execution_count": 13,
   "id": "b157089b-fbef-48c2-bc21-4b5dc78cd272",
   "metadata": {},
   "outputs": [
    {
     "name": "stdout",
     "output_type": "stream",
     "text": [
      "\n",
      "Tukey HSD Testi Sonuçları:\n",
      "Multiple Comparison of Means - Tukey HSD, FWER=0.05 \n",
      "====================================================\n",
      "group1  group2 meandiff p-adj   lower  upper  reject\n",
      "----------------------------------------------------\n",
      "   nas     ncr  -0.6149 0.1366   -1.38 0.1502  False\n",
      "   nas siemens  -0.3933 0.4483  -1.177 0.3905  False\n",
      "   ncr siemens   0.2216 0.8027 -0.6293 1.0726  False\n",
      "----------------------------------------------------\n"
     ]
    }
   ],
   "source": [
    "from statsmodels.stats.multicomp import pairwise_tukeyhsd\n",
    "df = df[df[\"VendorName\"].isin(grup_adlari)].reset_index(drop=True)\n",
    "# Tukey HSD testi\n",
    "tukey_test = pairwise_tukeyhsd(df['ERP_log'], df['VendorName'], alpha=0.05)\n",
    "\n",
    "print(\"\\nTukey HSD Testi Sonuçları:\")\n",
    "print(tukey_test.summary())\n"
   ]
  },
  {
   "cell_type": "markdown",
   "id": "8f8fc5f3-b228-43e9-b5e8-deb4e95a6874",
   "metadata": {},
   "source": [
    "**Tukey HSD testine göre gruplar arasındaki hiçbir karşılaştırmanın anlamlı bir fark yaratmadığı görünüyor.**"
   ]
  },
  {
   "cell_type": "markdown",
   "id": "2ba1022c-d3c8-4073-ab79-b6650a46b927",
   "metadata": {},
   "source": [
    "### <a id=\"section-15\"></a> 7.2 Bonferroni Testi\n",
    "[🔝 İçindekilere Dön](#📑-İçindekiler)"
   ]
  },
  {
   "cell_type": "code",
   "execution_count": 15,
   "id": "04bb70a2-241d-418d-8889-8b8ad0d763ab",
   "metadata": {},
   "outputs": [
    {
     "name": "stdout",
     "output_type": "stream",
     "text": [
      "                  sum_sq    df         F    PR(>F)\n",
      "C(VendorName)   3.098203   2.0  2.027363  0.144674\n",
      "Residual       31.327964  41.0       NaN       NaN\n",
      "Test Multiple Comparison ttest_ind \n",
      "FWER=0.05 method=bonferroni\n",
      "alphacSidak=0.02, alphacBonf=0.017\n",
      "==============================================\n",
      "group1  group2   stat   pval  pval_corr reject\n",
      "----------------------------------------------\n",
      "   nas     ncr  2.0479 0.0494    0.1482  False\n",
      "   nas siemens   1.197  0.241     0.723  False\n",
      "   ncr siemens -0.6131 0.5458       1.0  False\n",
      "----------------------------------------------\n"
     ]
    }
   ],
   "source": [
    "import statsmodels.api as sm\n",
    "from statsmodels.formula.api import ols\n",
    "from statsmodels.stats.multicomp import pairwise_tukeyhsd, MultiComparison\n",
    "\n",
    "# Varyans analizi sonucu (ANOVA) yapılmış veri üzerinden çalışacağız\n",
    "# İlgili modelin oluşturulması\n",
    "model = ols('ERP_log ~ C(VendorName)', data=df).fit()\n",
    "\n",
    "# Varyans analizini yapma\n",
    "anova_table = sm.stats.anova_lm(model, typ=2)\n",
    "print(anova_table)\n",
    "\n",
    "# Çoklu karşılaştırma için Bonferroni testi\n",
    "mc = MultiComparison(df['ERP_log'], df['VendorName'])\n",
    "\n",
    "# Bonferroni testi uygulama\n",
    "result = mc.allpairtest(stats.ttest_ind, method='bonferroni')\n",
    "\n",
    "# Sonuçları yazdırma\n",
    "print(result[0])\n"
   ]
  },
  {
   "cell_type": "markdown",
   "id": "f6921369-4637-4b28-b69d-9114022690c9",
   "metadata": {},
   "source": [
    "**Bonferroni testi ile yapılan çoklu karşılaştırmalar sonucunda da herhangi bir çift arasında anlamlı fark bulunmamıştır.**"
   ]
  },
  {
   "cell_type": "markdown",
   "id": "6639abc4-05c3-475f-95fc-63cdaf60c1ca",
   "metadata": {},
   "source": [
    "---"
   ]
  },
  {
   "cell_type": "markdown",
   "id": "5ea142d7-63f8-40a7-8531-463e49b92b2a",
   "metadata": {},
   "source": [
    "## <a id=\"section-9\"></a> 8. Genel Değerlendirme\n",
    "[🔝 İçindekilere Dön](#📑-İçindekiler)\n",
    "\n",
    "**Seçtiğimiz VendorName faktörüne göre ERP_log üzerinde istatistiksel olarak anlamlı bir fark gözlemlenmemektedir.**\n",
    "\n",
    "**Bu, ERP_log değerlerinin vendorlar arasında önemli ölçüde farklılaşmadığı anlamına gelir.**\n",
    "\n",
    "**Yani, VendorName (nas, ncr, siemens) gruplarının ERP_log üzerindeki etkileri istatistiksel olarak anlamlı bulunmamıştır.**"
   ]
  },
  {
   "cell_type": "markdown",
   "id": "27b15483-1b84-48a4-b068-143db19257bd",
   "metadata": {},
   "source": [
    "---"
   ]
  },
  {
   "cell_type": "markdown",
   "id": "8188af48-9a9a-4ad6-84f8-a9a43a1e8a28",
   "metadata": {},
   "source": [
    "\n",
    "<div style=\"text-align: center;\"> \n",
    "\n",
    "<img src=\"data:image/jpeg;base64,/9j/4AAQSkZJRgABAQEAZABkAAD/2wBDAAUDBAQEAwUEBAQFBQUGBwwIBwcHBw8LCwkMEQ8SEhEPERETFhwXExQaFRERGCEYGh0dHx8fExciJCIeJBweHx7/2wBDAQUFBQcGBw4ICA4eFBEUHh4eHh4eHh4eHh4eHh4eHh4eHh4eHh4eHh4eHh4eHh4eHh4eHh4eHh4eHh4eHh4eHh7/wgARCAEfA9wDASIAAhEBAxEB/8QAGwABAQADAQEBAAAAAAAAAAAAAAYEBQcDAgH/xAAZAQEBAQEBAQAAAAAAAAAAAAAAAwIBBAX/2gAMAwEAAhADEAAAAYMff+AAAAAAAAAAAAAAAAAAAAAAAAAAAAAAAAAAAAAAAAAAAAAAAAAAAAAAAAAAAAAAAAAAAAAAAAAAAAAAAAAAAAAAAAAAAZ1hOkC6D8Z1AugfTvPVXK0n+DWAAAAAAAAAAAAAAAAAAAAAAAAAAAAAAAAAAAAAAAAAAAAAAAAAAAAAAABnc7jX2XzuHor4v96Q5zff5mSRH17dU1nnddE6wo5yuyediBeAAAAAAAAAAAAAAAAAAAAAAAAAAAAAAAAAAAAAAAAAAAAAAAAAAAAAAGT0Nzzzenz6BodmSlBXc+dup2b3nGVtZbXd5rvv46HWWHitJKtJE2GBrM8LwAAAAAAAAAAAAAAAAAAAAAAAAAAAAAAAAAAAAAAAAAAAAAAAAAAAAWUh0KN5TNw7XGsiOwvvnfCwyOedVk3rFY0NTzVztJ95+txT2q5eslTlfRZjGrLUfFxD1kG8AAAAAAAAAAAAAAAAAAAAAAAAAAAAAAAAAAAAAAAAAAAAAAAAAAAWk5ZwcPRnfOr3O57z2jbaNpLWnp8wd4VmwlaD6NEenHzWfchndfMWOhxrdc633tSc0LwAAAAAAAAAAAAAAAAAAAAAAAAAAAAAAAAAAAAAAAAAAAAAAAAAAZWLX43lafA20q7fx1+q5qnjrjnusBeCn0VJKuoptNjY3nZUZX95tInPyud8druPSdOZX03Sbxz0enzAAAAAAAAAAAAAAAAAAAAAAAAAAAAAAAAAAAAAAAAAAAAAAAAAAOg8+6BG/P7SV7BjUjI9BiSlgaebpj4Z2DSVjOUXpD0Y+t20t3OTQR9j3kff8/6BzuP6anfTpodxp/XXJb52uq9HnDuQAAAAAAAAAAAAAAAAAAAAAAAAAAAAAAAAAAAAAAAAAAAAAAAAHQOf3sbS1LMdBxvW6nYY2daewgdvvHRNLqtj5/RpKrS03ecqwPqu9fk131lSmdOgc/vicoJysxTV6zZabuc2cqJekwpMAAAAAAAAAAAAAAAAAAAAAAAAAAAAAAAAAAAAAAAAAAAAAAAABfQN/G0Tt9T0rncTT5WrnTS4+003p8/W/dr/AJ3vmKOk/O8kN3OqY+IfrnOay1N/AdA3iS2uLvM6ypmmms6yZegn7RCkwAAAAAAAAAAAAAAAAAAAAAAAAAAAAAAAAAAAAAAAAAAAAAAAAHQOf38bwVTK9T4mdLn6PXKeVvOf8dx5ZhYuN9Roee0/m9GDDdd5pWdLPeGz1mG6BB3VJ6vb6jzxvP8ALC3pH6/9/PT5g7wAAAAAAAAAAAAAAAAAAAAAAAAAAAAAAAAAAAAAAAAAAAAAAAABTTPpne4y9xPRtaTOd9z37c8sdHWWqF4On8w6RD0U8lj3Hk9Ohjuk8VtKnwKyRpi4/PDURrK3cDeXhz8XgAAAAAAAAAAAAAAAAAAAAAAAAAAAAAAAAAAAAAAAAAAAAAAAAAAB0WTzfHz+lPlofXRecVU6SqmmaTbHXO8u4f4Z1+7PWdMzvTRf7+ax71MeLHS2HOJ1C/nAAAAAAAAAAAAAAAAAAAAAAAAAAAAAAAAAAAAAAAAAAAAAAAAAAAdJ5tQStPq2S3gNYvtHO2Hn9Ee6Nid5Cel77npCeeF3gWiodB0mNp2WKYDWAAAAAAAAAAAAAAAAAAAAAAAAAAAAAAAAAAAAAAAAAAAAAAAAAAAAOgx+v6X5/RzNnYN4MvE6BjfP/Sgzudjtrvc7Guf/AJsNfeQuc9y4rZT2KBaAAAAAAAAAAAAAAAAAAAAAAAAAAAAAAAAAAAAAAAAAAAAAAAAAAAAAD7+DvRpudq/PeUqt9PGL54mDSdf6S/rjfn4XGRzv7M6nF1kLRAAAAAAAAAAAAAAAAAAAAAAAAAAAAAAAAAAAAAAAAAAAAAAAAAAAAAAAAb3RM6vkCnToGDGjJxisg7wAAAAAAAAAAAAAAAAAAAAAAAAAAAAAAAAAAAAAAAAAAAAAAAAAAAAAAAAAAAAAAAAAAAAAAAAAAAAAAAAAAAAAAAAAD//EAC0QAAICAgECBAYCAgMAAAAAAAQFAgMBBgAUYBASExURICEjJCUWNSKAJjI2/9oACAEBAAEFAv8Aa4QQkuVeuZrh6Os0cyTrGOepq9nPaU5XDkDEbmfpnvKqudtg6cQCk3YbsxttstnmuzFatdIoXyy89lc6pAtTg8xNVOeN1BK/PeAItxhFtwevUkX3FXyhmq3CoE9Q0leSo1vP6wOmRBT6P5LC4a67iZzYJhypr9Du4ai0m8y+lCFHzW2irsryWHn65XbblTMwJmn1+0akPVqx4MiJXMNZ5CMpyKTVB4XlFozX62uNfdosYoVX3iSGK2gYXVmeB7TSIxvkdmi4YQsuWNea5xekZ04pLLFxwGI6ZcDCZRB043k64yiNY9XSXGd16uFG4hwdNgcpJ9qIiEuwHgUSSMskpiQOrCWUGbGVPk2B88jOWdGa2S1thyovXSrOFuFn1Te4YdcCisrsrwtlhymnHMZd0wjKc30orVKcWJJT2hgUIpNuALbnSYFj106+CWRcVf8AIibRri+WSXE1EltsP4CU8JKvZ8FkSrL2sWHq906kNGw5kTIw5awIAmGeUJe5Z1EhayLVXBkZacX8yK+DID4krjq1NdkZuhAsNqyoXpf2SLumf6/UaKrL7OXrDKhRqZkEbRdAen5FoFNY7S+LJGEIQZZOBS03Z6oFC04KM5UOGjixmzYD6+V0jbZRulb9zi1ZvJ3K3GTk5ft+fU14/h9MVinUaY4uKukQR4pQq7MNTrTydfpj7Ye2zKu2XXa3rMsGLxr7wiZOGksh0PDZTjmE9j/LTdz6jT6rlpd1DGsskELBKm/LOqwYq38LUPEWiZJGwXwhxMBC/jZhM63iP6rUJHTNtnH6dz7naOCcZeYVsGK8N1n5Wqdz6p9kPlGxE1Q93VSyTbYYbuUsQu8UHwGGDHtNMfkw+MQfSqmRHHEuZZA5tf3xUfuhC7+N2VxdhDCVaZnEiZYzGXcwH2tOEr9YvGTbCpEyLpSQ9VvtNnqPMRlnF4hFFXDvsa0n/CU1VVqhrrbLreZx0mscJ+9piGvJFkj0flclA2U6nPyvG8PTadzWf4aSqhdYwrjs0OEFvYBanHzPGOYWOlrMIaDCUM2Tp6gjYPoLSNXgU8qwwviVdI8h8bEwvgH3NNTU1XFrAwmLBhFaUCgl5XOy48rzuYz/AMWsgRYdWqHXQasmBQunf3R2fibrUYyeEkGKW3W3wuo2E64rcbcULY4zKQiWUYNGmLKPBPn/AIwnkTBgeW1vEMm1tVqfjFvtX993MXj46UNfYPeKQ4JmUI1rT6f/AHR+PKdVOVVilwzPw4V3N+FpGApTBnKGKHmfUKeTCp2UUaNPgo+GNXWW3Dl/yBvwoh3FYvttJe7V/fdzf99JEnXWTJ2LbWxDsJI1aXleO4+RvxbDyBWE4P2a9jIcYT8pa0LuBJWJM8k0Usr2wnQsOC/b0tITSIR7onnxtgatHrsfM62OXmd9zKfu6pH4eZotposXJGFt6ufoM9tr9N3VjErKp1e5qLc5ePY/qPPG1jszU4VhiLBnapWCriNrpvrbcY/Y1FHSFMf2VZdVsFZVIuoQ87pjP1WHc2nfCzOcZxkxgbBZBi2vuulKV21/kDcoMvoGHslTeY6rKXrZ/FRspuQRL37KyC5Scxs20imV1ccznuMsQsWX1QX0Mp3UOZjeTUPsw7n1i70XT6np24NYUFHqXrEOy12RvF/O1L5Fcs/xyZmLXpVxopqyOwEnbJZVa51YbqHLwjqmuRmto06EFBBEPSvo/E03ueuWYT26OLsJjTBL5DO3N7BeNUFqZWKGbYXITDxTY9bWdu81ba2080MfJK/EvrlX+t11PXRYf7WfCkYhisGjiVk9sziinuhf+x1cA7pIsmxhtnI5zGTiOGqbxXmkA32MhDUsZSjnOc5yrDmcdtRUJk8pttpnh5O0fVxsEuHBXWMu6NaM6Nq/D6Jn464xwEVsC3IBXy4xnOYYjr6nOc5z41/qtX7qu/da98iVjReM4UkLrPGEZTkAGOlHYF2mleKAHJ7DZTusY91Ij8rztlX4EJ+RU8tGrkvSsOT1c/GY636WPcVSqJhN5d3jHGZSK+CNJ3YgLpMFYh2gleIw15M+YnPGM5znNC06+rP0z4ohKgBTyrDCu7MfTIl9D4I0W4Mjw0u+7r1wwEgLF4GTZiKJDICerOY+bLDwSKoYreM7GJHd0ZZjIRiI1HbKCl8ua+aGvvAEqMaur+oZso9GkFYr44MvkUVXXO2YasVZU4aXsbe8VbskOOQUzXhiJkPym4kK7hJFxMxgiyeD65OMJtl62BRFxN3egjdiNyOzkSjl6DnmNiphwjZGVvL77iJ/7X//xAArEQACAQMCBQMFAAMAAAAAAAABAgADESESMRMiMkFQEEJRIzNgYXGRwfD/2gAIAQMBAT8B/G1pM204P7E4J7GMhXfzIF5ZaW+TOetFQa7RKepSYKhXG4hQMNSeY+0P3KYCtZoVFM3vNbsQ1oHKDSwlNNUJ08y4jqGGtfLUh7j2ihj9TvGdSu0Nky2TGqs25i1mEO2pImxaIdJ/UqLpNvKvhQkBbt2itf6jdoTfPpwsXlMlM9pbQ1t5UBIzG5kB+PKU11MBC16haF8XlTlUL6ILcxgNudorljYwm6BviBR3a8QZZPKUOq8oK3YypckCVjdzCLS17LH3uZTObynlWEXSV5oCBVFowsbeTpe7+SkpIm9RYjkPiFgTmLp5ngVnMYhRpEo7n+SnbTmHrBlXrPk6Xu/kpi+5hxUWNhp7bNmCmBhDAz30iV1HUso7n+ROnqtHvrAvKvWfJ0Ou0pgEG8JUW0ythzHq6rRXBbH/AGZXtq5mh+1taU8KxilLAGDNYQm/k0Ok3hAWoY12X9R+ZA3pQ3MJ1Ej4lfCgQiyhfmXtuP8Acp4DN5UklQw7RmLZMpMOk94ylTYwG20Zy28pJc3O0dtRvFcrtKnKoXytJgDY7GOpU2PorhxZ5wH7ZnBI68R6l+VdvSkt8nYRm1G58sPqDT3hFpSUM1jBTNrxaYvYw4MRC5sJUcdK7eY1q+H/AMwU3Q6hmFuW01nVyzhd3xGqY0rt5oMRtOO/zOO/zCb/AI5//8QAMREAAgEDAgQDBwMFAAAAAAAAAQIAAxESITEiMkFQEBNRBBQjM0JhcWBikYGxweHw/9oACAECAQE/Af021VV3nnftM84DcGK4bbvJNpdqu2gnBRjOcLx6uLAQ0g2uxi1CpxfvHzT+0SqSy3WBjUW1pgiArlCgc5KZUfERQW4W1lNipwbu1UnlHWOyi1PpFRw1rwXqaLosWki7CNRU/aDU4PvHvcJHBYfeU3zW/daerF4QnXrGW3w16wC2g8PN1tKgD6dZcut9vWUyMuHaLw1Cvr3So2KkwLamFirraU+Jmbwc3OIhGXAsdAouIBaoR6wsei2jnRX7pX5bSuy9RKdgCZRFqYgN5loWiDSwlQaWlTRlMbIMcf7RgTRN4DcX7nV+n8yswBlrUm0lRAU1gQgaRsuFDCyoIoLHJpW2H5lXLLSLyGUuQdzrfT+ZVNtlg+U0XVZ9d00tDUJsXEKU7ZN/uUHPI28rbD8x+blvEtgTaUuQdzr8l5VZgRaAMb5SjrTESiVBjIQuv/aT2e+HCsF/N3vKmrqIwe5IMOlEwaDubLkLQEtSEWyt94nC5X+vh7RyiAYAH1lDVyYDd2f0gF9j/iVNSq91AAcoesVQosJVU8w3EVgwuIRfQxECbSq+IsN4i4raNTVt5T4nLd1qqSLjcRGDi48CjIck/ie8J10nng8msp07HJt/CqxAxG5iLiLDux+GcukBvKjFVuIaoBtGqm1xBtHcILmU0N8m37xgyap/ENRHGLaQLxXmAx4p5o2p6xKeuTb96Kht57vT9IKFP0/Tv//EAEcQAAECAwIHDAgEBQQDAQAAAAECAwAEERIhBRMiMUFRYRAUIzJCYHGBkcHR8CAzQ1JiobHhFTRy8SRTY4Kyc4Ci0mSDo8L/2gAIAQEABj8C/wB11mXZW50ZhAcn51mWTFFzL0wdkfkJk/3H/tFMRMM9viY/gsKWVe655EWg3jk627/lFDzzCG0FazmAgTOGXRXkspMYnB7SZVkZqC/7RbdWpatajAcKFBBzKpcYmHMQ6shPBFJFK7YsUJVWlIsOIUhWpQoYGJfNn3FXiLE80JWZ0Op09fjFojGM6HE88UsMJqo/KMTLgPz6hlLPJ86oLjy1OOKiw8hSSDlJNxhp2RTiZggkArrWmcQ07MFWOl3VNO2s994jC4/8fuVDTCc61gQhc04G5BmzRJTaLitkWpWV3unVarXc3vMjHypuKTfSPxDBpxksbykcnnehhlNpajdG8pQhU4scI5qgC1lKOdRjBz7LiXsa5ZW4L0jo+d8P2wQrGGtYeSySHpVwPt07DE0twtsTJQAsFVKkZonUvzLbZfbsJBrXT4xjnplgYuoSmt6jrFYmXHgq20+Vprqr9zuBCEkqJoANMYyadcCC1mTQqDmo/OMVMIIQqmMbz9cDCUhlSrl5A5HO7fTqRv18UQk8mOU464rtMBbc6246g2Xm9StkCTmCCwtWTXkqhUthyTQtm+xMBJv+8OfhtuXaVtyu2OAYcd1kDvj1AH94iqpRRHwZX0hTbbzjYzFGjs3EYQfTjJt9NWUahCsK4QWN7oVVZUK2z7oEOPMpdsfGa064MpNXyr1xBzJgovLS721c7FTj90vL5RJzVhTx4mZA1CEvTEmpRWBZUbqJ1iJibl2lTcs9SraRlN66aYVOVcbdQ5Zyrw5shNuq1ZkITmHRAmsLrC3OSyL/AN4xcmhEq0M1BfFVTkwf/YYyZtaxqXlfWMThNhLLuh5Pm6LXrGDxXB3w0xhFl1eJubW2aGmowlphoNS7IyU1yGxrJiZfvfCxYtm4OHZ1wkrQU2xaTXSIXg90/wASwKtK1+c0FKhQg0POoISKqUaAQxglo5ahaeI0+e6LTxsy7QtvK2QVyzzc3JlVtIQm9GyErQspRXhBnqIqlFloGjaB5zwJl9IXPOjIR7sKefWVrPo7wn+ElF3ZXI+0ZOUwu9tXdErg0EinHIPGGs9AhlqZXZlmE8Gwg5Th7h94Eu3LNJS0CptKRelNLxtiXmlIKK5Q+JMN4RYvZmRWu3nUqac9XLptV2w7MK5arujRBLJBSrjIULlQXWHLFTUp5J6obCGmkPvCswUbDcIcwtN+qY4m0wuYc05hqHprwRNnKAqyqDZUW3mlUgYQwjhJOJcAVarlKjFYIk0jW4sXqhBmQpNtFpCSSbCdUTGDVXuNZbXnzn51JSLnZw/L9vrGLbFVUJ7NxM0WrTKgFWkmtIQy3xlqoIYwRL8RpIK9p83+j+IYSNmX9mjS7AmksoaMu9Ysp0IMYuXaKz8hCbaC082bQiXwuwLnBZc6fN0NSbYLlmthOqueAt4b7whyW05kQqYmmaIZNa2CLjohldclRsK6DDoAyXMtPXzobYGdawmG5VHEYbApqr5ELmjLF20MWK8XbHCNrkXTpTxYW0zNpfE2sUKc1lMP4Qd9XLo+f7Q4+vjLVU+gudnLpRjjfGdUY1eSkXIR7oicVO1bknAMvaDojekgje0qNA4yumA6vKek12a/AYm8FOHjJtt10eTSMY0otuoqIoZtzquiwtc2GnLlKcrSnXBQrOk0MSGEdNLC/PSDzoQdDaSvu74mHveWadEMsqlWFtOcJwiLVqv7RSYkFS5PLZXm6jCpNbhWGTRP1hCBx5tdT0fsB6CGGxlrNBCMGSx4CWuPxL0mFzc2bEmzxz72yBQYthFzbYzJG5hRs5iyFdkS7mi1ZPQboeHJXljr8mJN6XlGSt1ui3lJrxbjWkMsyGFauctIFlAoLzWJgsrQtClWqpNc8TsvymTbHRn8edGEZzS21d8z4biWQwyplKQmwobIDjmBkBwXiyboW6rjuriVk08Vlrz9PQm8KKF7SLDX6jCGEXrcVn74Rg2V/LS936laTAenV4hJvSilVq6vGKS7KWhrOUrt8Iwo4sk8BZr07khPfzG6K+vjDstIvICQrKSQMx29UWpuelmE6/NIljLPJeCwoKcGkg/eJmWVxXWr/PXBSc4NOc84vStyn0EMte+sJ7TBkpnBbf4feE2dA0aYmJWawTvdtLSlNqsUsUESqf6gPZD/AMNE/KCUpJAz7IadeaKEu8SunckmRnfWp1XVE1hL2iuBZ6dMIm5lIcm3RVlpXI+Iwp11ZWtWcncyuPOOf8RuMK0su958Yel1TW92Si26dYH7x+H72c3rnxo4xVrhiWkG1pabJJKtJMMj3gofKJpP9VX15zt/G73nwhlMuoB21VJOaoi7ffWaw+mdZWppSCm0UgU7IZ2BR+UTGMXZQX1VVStBWEMy7RUHFWcVZyjfnUe4QtgBiZWxlqdmzkNV0QcGz0pLNvLRal3mE0rGDEaN6pPbEgl65iWZ3y6NZObvhcw5nUc2rZuZWQw3e6vUIoyKS7SbDQ2bk6j3XK/4wcfaxSG1LWE6QBmh6YxJZkWU1Kaw7MyEs4wWFAKrmUDEqf6gETI2g/Ic55L/AFz9Vw0iVVZeJyTAcnlTE27obaSSIdaRKb2lEAWhZvpWE/oVD6tbivrEsFZrRPyMTRcZDjb6zULGSsaIGGJ9mxZTYlmc1dvRDbRbl7ClBNmxdGLTcp9QB/SICUgknRG+cJub0Y28ZXVG8pFGIlE6NK+ndwkIbVKAKdFSEnTdmgyrOCHZZCuNYaN/yhLD0qWZdiz7MpKtA6YlQbjj0fWJn+3/ABHOeT2PH6rgPNGi05jFmXmJ1w7HFRNLn5okFAo2VWjxhCf0Kh8anFfWEuINlaTUGLDco1dxnSSEiGHWppshCbJqkgE6xFllpx4ChS4lMNNYZwUhxdm0nLjF4MwSy2tWoVJ7IS1ONtPzR46GzQIGo7Ylp+VRikzAvRu4RVtp9ID7CbS0JUf+OePzf/zT4Rvp55txo2FpULNUGtRoiWddVacU+kk9cTP9v+I5z/6b3f8AeG1uoxiEqqpOuEtSsx+HgaCxX6Zom5xieacasqXkOVNM9CIl9tR8jE0P6qjuYLkeS8FOujWM/eIEk8tQl2lEIQk0qoa4mZ501CHFNNtDWDphtnCi7Tk5VSU0pQZ4cwfg9gSyc1UjLX1xvzCqsQwL7KjQqhEg5LqLZNltdKX90Oy1ahJuOzcmT/Mdu7Uw488kLGKICDytkcJgVKf0KhW95F+Uxj6QoOg33GJUfHWJo/HTnPhBnPYVb+h7oFTQQJeTMxMPpOXkXQm2y6y2ahSsxiXWbrLor2w4ffSFfL7QlKlWQTedUPzSVDESksEJobtcS7qs63r+uJ7TYm69tPGMHTHJcZXZ7AYxDHBJCRRVmpVHtplXbTwht7Ccy0l/Ohu1m2wtx6hDl6CNW5JNaXF2vqfCJtyfUUNCym0BeCTo7Ix0thYJRas1cTp1aIYTMT5mraiU0N1B+8IV7iFK7u+Jhz3nVH58552TPtWvt3wQc4hmYl52VQMSmqDTGE6YCkvvulJrZTWnYIWtQsqKiSNUSE+PaN0V9fHcel0K4N7jCG3k8ZCgoROsqZUhx9xK06QKWR/+YwS9pQ/Y6jaTCFpYbdUpVBbFQIsJdSyn+mmkWyFJQTlOueb4Yk2lWt7JKSrbd4QlCc6jQRKSSczLXn6Q8zMYPdmGlKtFaSRSkIkJpTaZXNaxdSmJWXlHsc002cqlLyYnp0+ya+/dzoY1LyD1xMt6Ldodd8PzUy2t1ZXikAHimmeJJqUTZmZlWq+/yIl1zFkTK2qvAa4eZzuSqrQ6M/j6Mua+rnE/5feHMFTLbbjKk1TaGyHUy2B2UAKyFCXqadMNPzC3GWUqygrJBGqkPrZIKbrxrpDVRkt5Z6vvEw8OLaonoF0S0vIqSJJxgBRu08asIwYppxx45JdToVDjVa2FFNdcOrzKmV0HnqPOhK03KSaiJTCLfFebp3wRKJDhXnQRWtIQ+4jFhPEJyAnoh/G4QbmJ65fGvuziMSv1b4sHp0edsOy+hJyej0H0IvW2+FkbLj4w3NNKoFthSFpiXewVNMi7hLWuHJjDGEULBTQNjugkXRMT5udfyW/PaYRvpSUspyl2oJwRhLHMnkocpDre8gkg2sYtF6a3QEi9SjElg5BuaRU/Tx50vymd2WNpHntjJl21OWwoOHjCmiF1eWlonJbF13fuBSTQjNDWFGxwzQsvDz5v9DGy66HSNBhxibo3MIJUzRPy7oqlRT0RU3w3Lp0nKOoaYRIsXMyws3a9y204ptWtJpDbM83vlKV2lX2bQpdGNs2W2eE6NUPP8kqono50oKjRtzIVDjYHBqykdHoFt78u9kr2bYqi+XcvbV3ekABUmCtX56YFw92Km8+gpeaYnM3R+3151h0XzcpxtZHo/heE72j6tZ5MZQtsniuDv9AIQkqUcwGmN/4RoZj2TWr7wp943nMNQ1eghsjgk5TnRBCDwTWQjx51pcvxaslwbIx7N8s9lIpo2ejvaaRviWzWTnEW5Gc3ss+zXGQ6wofqPhFqen2GU7PvBTgxrHvfzVQXn1laj8vQCUipNwECWSf4yZ451DnacDzpyVepVqOqFMPC8ZjrGv0LDDSnFfCNygUR1xU3xjWpdakHNtih9A4YnhmHAo17YXMOnKVo1c7aiBJTagicQODc96Cw+iyofPdMvjDirBVZ0Vuh2anVTGQsJAapU9sSLLSplKZgWl4wioGiJtxkz1WBnXZslWYRKJfeQgyqSlpATeu7XEwXEWFF1VU6r938SwlREsnKSlXLit6WUerRzvCkkgi8EQJLC1Euj1b2aKqFtnQ4nN16tzfD2PUuhTZSkU+sNS7BcU2o5RWKGmmH3BxbVlPQLolJTMt449zuiTddl3UvSw9mkUX0w5MKFC4qvRAQ2grUcwECdwuoWuQzn/eMrIaTxWxzyxLgx8vmsK0RakX96vn2avDwj1BdTrbvgqbUtlylNR3At9wrUBSpjgJZxe0JujHYRmG5ZsZ77/CC1gli2vS8uC6+4pazpPPWjc0uzqVlRSYlGHR2RlYDlj1j/rHAYJl2z0/aMhTbP6E+MW33VuK1qNf92H//xAApEAEAAQIEBQUBAQEBAAAAAAABEQAhMUFRYXGBkaGxEGDB0fAg4fGA/9oACAEBAAE/If8A1dP+5o6jgVpwhIvCWDzWFFxJR2A701BvSiCluJdBhNMIJeTKgUJ775UFARMT3mg6YHKtBhK8grpbHlbesEzIlvj8vTZPxYtPvuEcnGlbZBl3U/r1hGEC7OlNRjFncqZCf+DlyoIdLIgX5h1Vdm20tz094qxx7kNXakFpGW+h/wBVnR0bvA+qjpNA5FGnefTUJPK9saikauIE6lcYy6fdSEoZdJcaewnQBCwOFr2tUWN3F4l8OB6CEjg5HactqFZXjDvNu57vYjBD54VEq5i/eBz4hAGHa3XFWgqZCk5Lb/wUbqCgQ3WsxOWIbfDC1BRudi7J6a5aUtYVqGLmDCmKKaZgCAEXd9qUuaOYh0IOXoJhQEqcqjoIk4sNpS7artNFSQ5MpqITQin48Nvd0ujRI/XeRX2mLNBWpMuneHw8KEoJeGa3Ke9YJCMQiQt4JU4o8wLDPMcBpGpLdEnfBU4duz+aSE2aOxTTQLMp7lvQ9kwMGMeiS7xRiHMXGx02o85wpL27NKQQ1yjnw1oicyhpxPr3ZDqHMBv2x6VOOD93OjdaJsgZlxW35q0GQiwsk5Jw+KPCYJ3TYbh88pertXIFJqF8c2/Io7AASY+DkVOmcjzQlzIsHyo+p2ZB1x5pKAvQi3DQ+afomB8TZVbGYkO7G+NJpTvYAOmrZaEQSg5lHmuJiDD7bJSfngcRMvdSqyAZrlQh/wAoavanCiaBy5/dRAFCiMkYnenaQkMJb21qSJobCXGDM41F2xoNPt5VipBXI0ND+UcFhbvx2oBN5Mat/NEF1FsCI3A52op4QwzRLoYTjQKKIMKwerjUEWhudj1KJbRQwt+Tw+6o3ydWGKOl3kVKlkNMjpVkZcwW9OmUSORkogZisRPs6UYwE3HN+Dd2pAb25eUf2e25eJGXLxNEgHSDB54lGqmMTQkvmYZ4VoAct8nV5VAjA6IsGcIwimQcW7qd7cKIjCM+6boXF1n8QKZYcZCwV7HpY0CYBM4woBpNxlpUL5HIH8xP5EOLBxttqgmEhYlu8d6zeuxYN3Kl8oA3PpKgmnAcMnh5CnJrQw5jSjAoTebn+46ViHa2yhDUI71McO0TzDyq243Kxd590W/eCJcahuBGp/ikDbI23QjDGKLXNwxeOxXP6PIZt5Si1u0YzDL0PWl5utqXD+JtrzsT2pTDZ7DRokKLJheuUxwGw91fudMwRW7rgzzjpQLLmof5JQy+AgYybNqixrkTwKh5JcheLCvyo/IYG41ZF7xqx+G/uiR7qvCl5JOrLdqnZkbDCHahu0BenZU/ll+wOjLGnfh5g8Dn/E14f3U/bCU5x35zQSNxgq0/vNBGiW+x6KKdyJipNYf6jeagYhTzu9LzCSod0YBnQAoSSZJmU2vUPAUIkS4bzV434Ns+HuhoiA94Tx6A9V0NgGNS6HYxPQ8NCgXEZCtisDWwcbeP463Cjn8rcmphLgrxqvNDRjJ88796kLHDg9TIbw51xPGl5sOQqyNSTLKQoUZFmrbL9sB5oBT8nkLLLLRvREUMMlja9EHMDbjiFgcq03i4MeHVt9S4+5+C13J+6jRmLdsFSTpUJTLrcGRjV/FuXdGJ4rTWdzT8VsGByE95o1EywmGrRILV4gRliYnorGII5DsnSlNWu27F+0axqNMB5dD8MiibpfRbaDoZ/wDfz6XfkF5B4VhWMpKcJyoRhizwn1YT1wrELu3E+qvRZnqfirSwEXCUe5+Y9S385ZAT8UnM/wC+NPju3DtNnLnUj/7H7pkQwU0nLhR4uEhVhPsulj4RmSMjw2l21S/liRAvMs/r1YUw53/io8142vH5lFM+3xKxy9CSWKtjQnWgsCotoZ/so9NwGOEr7qSs46GaoUzl7xjXktSgExKaGbeaS7fItVtonrG9ztN+SgCTQ1osz2msWDuzX5ThV5GThYAX3iwegkYiUPVUSsAcRDvFJY0XZCwdprGPBpTcbr2TfeicL+kCxrXyRFMcJjrVmCwCVoiAbw+UZPO1Dn/6h6m0Yz2PqjJleARrutNars71bKOsguh3MXCgWJAkQ4be6N2XOK/HGrymbEiVsGtgcbxVk2qIiTp0phuwdKAOYEdVLXCNiJUldt4sZrsNTHFTMBjWfjGprCsFNukOtXtJBEvbC8NtaCLaA7EFLW2d0UvOz83b6xQDAjGXqUzj4PtUIN/YlPIX5egQaykCAsGLKKmS14EwNOHujdtYUUAdNDnCmJ44IdhT2Uz4sLD4IVdzZPz+anXz6xn59GIjgg4DsocCkTI7AcYcGo8aOgkErGWJ2KK2RokjAEYQA31of7SXbWM70AhNlzS081K1VxDARnRpCU6yJPTfw9h8NCROGDYJWcprxaPgKd48UMUElbVg5bsC/FATl2APc+qlhtHyaCBpLsTBUXJEZ3AkQUcT+aEJo37U/hw8VPB2K7PNBsCi5JxqZi2E3XpyAp6iLLd/7VoIg35QdQvOjF8KaeKOoUjGFMMuVWiYWWR8KS8ZZoeSfxSxaHkbRxPTT87uf6UHlJzpRkezCsjHBBbOLFWOTGEQJ43VbT6iiNrgHCXudYM5+0qpNIkJU7MMhYkBtvR6paUc8ioKaARKcKMCG9aNgd/Qd4IGNMyhZGWtRmosZgkA17PRnSz2NPIO5U40NhufirCQiC78SrvppF9ybqnVGcpuhHE8qHiSBu03P37eKmxKUGLXD5zq0fitsMSM8pqe+5Duq2aAGtAPVeFKrKs+55esM8hbvFWUhLgf6U8ekKGmP84UlOMqlTsc7moMbwOBQbWmI6UcMTPP/gnl/KDDU5W0ETo8JixGdLx8I6RKSdQDMw1bZpS4shwUAXrUkkl8bwqUErtg9qMv7LbLs0yuFOP0cZTW/wAMdaEQnggxNCR7OTEdOt7ofuAbcaOC0Wzg7L0oBw4OvM8S9MB8prNzvRaDkmwWSTo53sVaFZTh+LUWQ3qc3g9P4vCCu7Bm6HRQRCWMzR6daMsNqK2FsG5fSo/m0IXZBfKxSBEFsaUe+fxcH8YFX3TnQIZbyxWY/ryTljHcpdznetCQzFGSkAZqtZeR+bEHt1e6dkNZxdPjU9a3NlDByn5anJpIgSsMeXosBUoxGjNMKaGPRvw/gByklx0SkfkZkuyDQ3ZRU+VqoqZCtVqZMJgy8X7OKjAhxg19MOvoIFc6qk/6DlAWMmXpQeGUiZLrZ4+KiNnknY7e6fmIPg9Y71biTbllyZP4gAbS3NH2qHCzMB+dv6ZsiACVajKtsSP+d2kCKXVf4ExexqGf6ePusNGQaK/UJ4j/ADbtZK5Bctn4pioi0tw0P8P42ByqhU+wEVfmOBUu/DMMofw5LFtmXPCi0mzB16vB7rfqvuDiUJMuTAm/2NuH8wMMSuhoTibNWU8FToDfopWzDsFLdjjLHnCmf3IcHrjyIKzSZOA0DI/hcL4BKulITBSWP+WBvL7t1D247jXTpWZcMvKH8RdYlJIPSBO0FUyFarROekrFuhi8qCgImJ/EBIuGKcIauXWpOSWyDIPdqSREuJU4YzH5xOfBZXRDU1PVFo+Ol1ENDCvDZUVtkV+0gmHXKrVMpJhgsS37FTs4OJIujLnSmBibGq3qHgfsCTTbOrDWbQNXf3e2d5CEdawlEHNu5PZpmtm0/wCj0dyWY8GLyjTSgkkQYl8C5UEZjBMMJ2Kz6bVwg9O5TYHESeLKs5b0ZpRg5sqY9cDlaU3xDid9W2GtcdFLG7q+8jIsY9xoPxVh+RoJ/M0UmqRn+OParwILFjT0Ptg5JpShBuY7sKys2RerB3ou6kEx+XsVi5kTsaHvUEUG24XwrlD58pp+VN6QdlYMPg0UgTxPKt+BGH/rD//aAAwDAQACAAMAAAAQBBBBBBBBBBBBBBBBBBBBBBBBBBBBBBBBBBBBBBBBBBBBBBBBBBBBBBBBBBBBBBBBBBBBBBBBBBBBBBBBBBBBBBBBBBBLBEABBBBBBBBBBBBBBBBBBBBBBBBBBBBBBBBBBBBBBBBBBBBBBBBBBBBBBBBHUabhhlBBBBBBBBBBBBBBBBBBBBBBBBBBBBBBBBBBBBBBBBBBBBBBBBBBBBBBF6ZYxxXqrBBBBBBBBBBBBBBBBBBBBBBBBBBBBBBBBBBBBBBBBBBBBBBBBBBBBBMZyYzBEduJBBBBBBBBBBBBBBBBBBBBBBBBBBBBBBBBBBBBBBBBBBBBBBBBBBBB4z2DBAWY6JBBBBBBBBBBBBBBBBBBBBBBBBBBBBBBBBBBBBBBBBBBBBBBBBBBBDuUrBHbxetaBBBBBBBBBBBBBBBBBBBBBBBBBBBBBBBBBBBBBBBBBBBBBBBBBBBEeNsDwzjWV8oBBBBBBBBBBBBBBBBBBBBBBBBBBBBBBBBBBBBBBBBBBBBBBBBBBBdlLKiGzFQvrBBBBBBBBBBBBBBBBBBBBBBBBBBBBBBBBBBBBBBBBBBBBBBBBBBFtVgnjUKFyFqBBBBBBBBBBBBBBBBBBBBBBBBBBBBBBBBBBBBBBBBBBBBBBBBBBUPgbWpFFWG1BBBBBBBBBBBBBBBBBBBBBBBBBBBBBBBBBBBBBBBBBBBBBBBBBBBQYVjBAjKU51BBBBBBBBBBBBBBBBBBBBBBBBBBBBBBBBBBBBBBBBBBBBBBBBBBBBYjHJTRsrTQBBBBBBBBBBBBBBBBBBBBBBBBBBBBBBBBBBBBBBBBBBBBBBBBBBBBQIBiGJCBCgBBBBBBBBBBBBBBBBBBBBBBBBBBBBBBBBBBBBBBBBBBBBBBBBBBBBBZDHP7ADSBBBBBBBBBBBBBBBBBBBBBBBBBBBBBBBBBBBBBBBBBBBBBBBBBBBBBBAmTnWGbBBBBBBBBBBBBBBBBBBBBBBBBBBBBBBBBBBBBBBBBBBBBBBBBBBBBBBBBBSByiBBBBBBBBBBBBBBBBBBBBBBBBBBBBBBBBBBBBBBBBBBBBBBBBBBBBBBBBBBBBBBBBBBBBBBBBBBBBBBBBBBBBBBBBBBB/8QAKBEBAAEDAgQHAQEBAAAAAAAAAREAITFBUWFxodEQUIGRscHw4WDx/9oACAEDAQE/EP8ANlyLdKYZL17VNifXvFJwY85RQVoHB0O9AyLc07FFCuJPStGYSsv+CtuGTU7nnGAM+h3aE21iHb90pjqTbWgImhGM1IYF+vapLLAZaKAZW5btRE5mz2fNjJxdToUY9ypdliI31O1DVnR058eFJSlWFZNm9ANNqOn82oiG+ku79FBbu7P7hSu/NSlZbvNx0p5l9KRPIcX9dpmrL4DmmGJDh9UhMlWdmkIyGT1xUFd9gsc4ri2x5aeacRGroRHCeBRTgLiS2dzlNOD5vN/ngYcZji0zzLMG+l+HzTPVH4kpDMqPsrITC2Jnm3qPgHpfzSxbBelIli0xPvsVciR4RerG3+LUihqKbAS/L0gpBqXTY0/5SKWg9vuvSM+zRO8pLb2+60qWxjEVIbPM8eZ9VMySNZg+6UEKk686iOS/LS4shuRaOPpEazQYDIRp+2pEnq1nvu78uFO1xfFZwmHaZ2vTIRGNI12qweL8+Z4ji+qINmNN/gpYTAxdmb5qScGpkqyg9c9KTUE3hiOE89Klll1tAdOtKZhMW3/tZ2y+KSCOVf6rIzjWfmlK8X58zv4gnuVt+j+61MA2daJsm/vehT2ZfftTeckD7f1QDEdY/WqKsEkca9Ch7tAJG3GZne1veowMEazglvTJXzOF2tFzjlOcWosAQRE2xw3aPArP108Hi2aRtZVoiYe1LOys3b/yt57n4KZRfm2QaH61elYPX8+a5yrH6pCSamOHodGnWYp3KhqNcigbAz+407urMq4tbvrjp5qw2x7+lK8x4BLSYfp4U6WHC9F6odfaiAEDrxfAU749vWnfM+bMNYYd+HakUOaB61LAS/eKhVziOcUZDwAADE6u/m4xQXU/L70CHmLlBZLzL9VpGxicfpqQz/Z9KOxjqefbzpmVFb/QP1SpHRb4pFL/AJz/xAAoEQEAAQMDAgcBAQEBAAAAAAABEQAhMUFRYXHRUIGRobHB8OEQYPH/2gAIAQIBAT8Q/wCbbhX219CrsJ5d60k8u00HLk8ZAKtqLpcur02OaUhCzr3c09iyMe5XNI/vOg7eQz/aDauHR7PjGde4n0UpvhMm9vzRDQi+nr9UqkBZyW4qB1be3esESuCkF8L2sOxz+tUhr6O53PFnBn9hq0jBhDk6X3rRRZmdtHvWwy0mvTjmgICruEty1J6qEtP93pyFtYNjndoGMBufuaADr4qhrBY6GfejOP2oidZwfrFATAf4iIJJhefuiIsC5uUBFljyZoIR1Ld6T+vR2i466+KcGlWNmeY5aWM0Mw3xs31irx3g6H9/xwzueD9aiGMIl21tz8UHG4j7w0DeBP01gFlfMR0LedT8s9G3il53Ie9EQm1zHpu1biEN5tV67fN6ASNCBZWDyse8tMybGuq6/wDtEE5U+Z+CvOcepTO13Yu9d+KuRm7fOZKiN3iefQ+GhYwqWIl+ShIQMadPmpDKAx0KDN0lmbzx5zOkVGihV13/AI0SG2x2rHbY268tZ2w+auBRJmYjdihbWc6zpvTnpnx4nkuH3SIuTrt6S0JuEpMBEWxUAnYoIRAC72x70OIhaSRxeOmtQAQOLyvf4qJAgvfb+VeG4+aAqdK9vurXBnQNOJoR0T48Tt4EfRpH1+nE2qKMuaU2Rkt6WoBmZIPTvR+MMp69xUoSnEr/ACaiOSGeO1685r6FJZEPERG17+lTlZZMRlgtRADTxOZ3lMhkzeMZvUcqKWYvnnYq9tbPv3/wZNygHCBDMxJ3o2kgIILf2KNDAg+WkLH0GUur096nurL5fjxXGBcfdQRgqIb51NSjeJoDBJQiYN4pNRWO/lRkdKgUXK4SWPLPv4qY3w7edCcT/jG4Ofsc0aiXNqbES9vWkRJXtwf4Y2Q+3yoTxHixXGeTbnvQCRkp2UpSRDbjYmpE8Zk4mnIa/AHipjO9jbv4vmluj+W2pEynRs0l1tEH39U5ndbxn9FTEWzg86Ukz7Dp38aKgyVsQ6KfDQmbut/mgAg/5z//xAApEAEAAgICAQMFAAIDAQAAAAABESEAMUFRYXGBkRAgYKGxwfCA0eHx/9oACAEBAAE/EP8AldDVWIP1GPcTF42330Un0wz+QR9KY73ZBlRoD9jCSBLbCe4/hlJyHaOgD9Lkqi1RI8oPiJ5xYLIhCJSI/mZ9JOekAwr2UQrkqX2QHMMhOmZ3oAe0C42N5F+6zilcnBCUEQsZHByHzalVfHaM6uOck4gG2azRS+R6gnDxLt1zqT/BwqwhjSEo/QhxLE4rJd9Bub8PC/mL50lKPt+B/wCF4F6BMTkwx6gLaVrGyQC/JQFBdCsbFkWApVJIx4w6Y2o7vRoCEHTiRs9RR1iIlyOPun1DjACFLuIPsLwcdgZcUkwoajkmKeEbI3TSKfE+i9AFE6e7s66jBm/yDlmS46R8ta/LiQOP8qeAWvBkcQVKhmHww+MtbgVzkIMCWoltX1yD5gX2TEiAE53ByAjexkVMN84untkusHMFOjOEcQcrZ1cojgMpDAy74cKsQUNK01jVhIpISAIhu0UyeVCCaBqRpUV+jcHOKIAG1XKdVWY1pGIABkSRKhKMMiqFRHzenwMhwL5COG1H8h+WgrBvF8LjSuDCbAE8vqYst/2a21cLq9DcKQJ0H1J4QRgKYZV6QPSD3gFLA5JFgoohITxzhOaws1LRvWaHrE44xrJkyyUfVw++Sf8ADEYXLpm0eo/TCDilMmRGSV9T9F+Y0mE8bGyg2uH/ABhCWpAkaaGTdL6egS2ZVK4jJWnXgUVeevlxY5yCrvtvYw+Jc/lnS3TEgPYCfs5xl3JPEsCdtvl6jJpUmkMgiRBmIk7YS9pnYKoIlz7WxG5WSAIwOynNqTCskjuHQef8ryuDgGTAg2Bsc2HlcA+BE0CU9ujvEcwSEI9Aga4wUwdHJ0sh7I4I6altBf4PNcahbHNrAJ8HHDmHWSX2lRhEAJYe6249LEyq2i3ZwYRRBUBiTo6bzqBgioIAZQHZI4+kOP0U14J9QbwOJjQlCjuT8q3GgMcAPMuQovqmTLLuBrwGseTnQLZaEq6AuKawkjz8xAtIYrYsLyWjn4kJTJAsWM85Gsi8DMqhteVXGKCIhLC9qCat6d49MZRUkgaCaD7TpF7iqGb9nkY4Srs9lCoCXwvsG1QilEYXA2vhdzGwhhszSLbNOJN1zdyUEghMhUV1ga6F4Uh7nOqcYsADAgRet0d/lQwK/S2BvoPE4RjpF+OvYB74XqCHQIA3pdJi+3jrWZcFwcnEZKy2EyDYmVBjKVlxSDB0MVHaKdndiJk0BUen0/bL96BCbmMoJ53O4tGAcDOMEigIQeSEckZZQoG3CTAF0Mg+pHQpsCZz7HTCiLPBhrm/Rir2A4KgL1NPhxmAGEaRPylfBE5mvI+BMvqIJarBCfRWRYZwxNMJhkieciO53RAl6Db4yMLUIqKA5ZV56vtSz20FJAU6757C8QD2HAUyHg0E0DIauSw7B0Pc3kKUPUhkRGVEUw2YJqaoYIn5FTgkKfukK6SJZYN1LhP1krnSqvWS4FuNpQJEaVIcHskq40BTNqUk+DApWSqCVQeAn8ondC06R8JnHVGC0IYj05JQbJApJlY0dLUYh5eaTQQJP/vjw/I5CXUJFYbCMjzIvRAJ5PgcmqX9IpIeAo8fYvEPxND2pWUdhzICgHC5oBU9vPpALevApCBRVLFDKRsxOcz0JRssmyfVxo7hEgC5hA6PPF4uULQX0CL1xg5SmNEkFbdm8m08tKrJAVs4PahMTAGBHq6vPFq1ECfJi3Lj7VUy9H5QkOoEcSH9A49/8/BB+BlEQfGUy7BxRi+sVFluDmJgeLjFeHip+xJJWQ5zisnpk29H7AxOoDona8BK+MjN1G9Icij/AAxm48/QbI7VUmLsCxghDVoFChTDb7FfT+zFV28uNAadcMl8H6MD1jtRn9eEJGuaxoBQqXTiMRYlgUCgKRerKcKBAHKiR4TaJMtDSeU/f8obBUC3Awe5+gnQxqKapKpNjvIuOABbFgm+/cyQKwPAg8BBilwsFBIInofP2EYMwkGqFcGXlxCYVIgZeZASs3kelqkUbhR6y0mDFZwLaWh54dGJDRgbykoeEzkOOCGX0wmAGRKRMjLEk6UT5yoILTPgGJQgTZnEQCIKkWTFMXE5LTbmYVAgIIflOOHK1LGKMYDIhD0GHf5PqcHTUsKzzm5MPlFB85EjNxC3gLGiDtWAUR5Yk6BNHDqIcNMmFdkn9YRMy5ejGJuq7iSJAolxuTcham0HYEjJ9JNDdsiv/wBPoyDdZVIMj5Cz0shpsCX0bv8A0zOJ4Ptkf9Ro0Gvors+q2x+M+h+nP3MlQ18RioUIIB6Nva+pkdYBRDLohjCJCXwAZwtpK8tq+t9AAyVoJXtj5GQ3Ko1ZP0T8nLAEvI7i9P4wSWtoAqQz7MlKkzqfDTJqyyayVsImDE8sFckZIk1npeGvXCBCSYrDWFhl0YjMknWTC3iQYVApNsIQRVSzkcF9DgFNvJGtWYepE3UAtYEtOAZSudslecGEl2miXgK/f0YnFqWtCqQO9EvGRu6CArgcTFeH0OSuKCUEv9ezAFjs1xhE2hz8by5jMYbCWYhcM67wGRu6QLgA1088ECzQYqS/uRz2JPM/v8nEhQCOySP1jBTKA2YqNeDEuEJADh5XyV7ZoKSSlZAb7o5qc/3nRgogKNSpWS5piY/x3w3BSSmtEiMWFkYn5FqJMxIBSRcINYTy6yJq2mGOvGcJNUDAsRw0eePiAVIdAG3Ly/jHNyl6nhiuY0aaZkmYW4m9vR9HIiGe5Tf4wCqAKxQXIgC5iLylwdWuhAA80rqcYDHhxDL3BSHcY227IGNQ/lGBhAM+RLHubliKeYWMHBKT5aqg9cR80+wydNRKd4JqCIdtv4Y56SncBXm/XE6SJ75TM9OTYSvL4AYDLocNVLIdpAhYAtqqxTUuwaanJqkloFKgNlNKoxFXSDyUT8qGI3nLSCFB20r9YrIhQ4UFUUQrUc/WMynaiov3iP8AUIEiWGmZ+ga9MbuFEkyhKQywANCW0AK4H5RgSCLdcpK605FyrUQMm1Xi4iNqNhg83xbvATLajRqwgrAfBrS4R/GTGTY9OfoCShaxXdoQ7gZJMVMRZwqIXSaig2yichZQsWXgigFZW5sHkoYpIrSBnDK+QahJChmos7w3Zpo7ibJXjfQG8OvgGMEEYmg9pMlCYcSFP5hh8/S20FKLFP6y9BkjvkQrYjO50zBi8JTdJUHLgRsC6yiVy5zUAEBRm3/5+T/vKSEVeqY2pgORG0OayK/3YQDeW+3CRGopBFJC0kqyk1dcQH6rjHh8bm/Jmmc7DAV6F4dw5FQXBis6f2my4L+8iJ1YKULHP/bBz1Y0dnxPtkKCAYEpKAzTlYER7Bpe4Vo+DIMPrsR2SOuDcvAuvJMiBY6AJ+efoFVpXtvylaHtxCiBiLayc4ToIaBQSWi4iY4w1DWTHTibjtr3xzZSD1N+DZS3mbMfr8nUsvxpH8DCkwK2IwmThGipAy0D0ndYkbvMdgFBpk/D0ZqUDZC6yJYEBFHyHw/QisCVsQnDFPZghBXSEZ8SZTF5V0KgYSehxeiR9RPkGPOQfoEoIqlCTviM6JLUPCn2Ew9o8IXf6AqdpjPgNoEbyBnzDZnknqiAHy5IwJAcUI+x84yBCZ0DQiV8dMjj6NwwRriaFhchiOWDL4COn0wiRPRujH+2sZoJlW1X8n96P9MHNyoC4qsh4K+2PEYc4RCG5ifQy/1kIA4NLJAecMKuzTZ5BDFTWs8uuICZfGfadcnuhZjzcsB6TBRTIRzTk7xG094GBaZCarxgMpGFogQUyChuZyHwVSYpKaJPO8SyOuCn9shOMIaTAepL3xjhQws8ku/QbnELItKgSKsugNGcGwRCgN8kTiMLHaVh+haflDw+ToCPyY82fTgAXyizN3olGDARgFTl/HQoFGBuqDAVF0Y7gLQopaVZYgmIwYqfte0jmWchRE+WU3NgfM/ZAMWu3wC3SNrDIu8rb0kOQnPQyhtkrVhiEsR8MT6iDMzNijSC71ktFUbgtGNPdmoUafL5DK6z1CeSPgILicBZlS7ZMARe2TxibKQ+RbISAJJPebRh2hgXyrk9UMqoCvNn5Ssvm+tV2oj7ZuxFKpOEIj2Azhy14aqoyQcy+hDFNQBkR7nIOwXsa8HCR8y6+ytIw75ZWfs4TCzD0dR8EAWCiDtM8iZL+RxAs7QrFbcoAs3a6dUTuDnGRCPXIA8xDxfP6a0UfKI4mcuqDNtyqruPVkx7OtJCVuEPo8Sdw6I9fEgfV/KT3cF0DJuoMnrDWP1ES1h/oH2N+IDy2lHglOw+DEbzAYDa3smu7d/cNHixBgANs4jLmaFB/Jy+EsMZuKsVVlVdv2QJgCaeB5peAfyvUcu0IS7YXkI+1yooaJm04Po6cMxfKzFqDh408T9hsyuXNAFritDTClNd2v5LGTZBGhlgdE++2/sVAh4Mx83Hol4yfSaO0NRqxB4/KyO8Ybluh2We5zmr3Zp0glQz8A2+0ZR9OnUpF/iTF5Vyw2XJnwDgywG0JjtH+FyGe0uaE6I58Ppk9dC1M7uCK0p3lLvijgArwH2GeqiQYAG2clySslCMJwFbsH5bMOBEbSgWg33vRDIsjwBHqSOGPZk2fYynwj5C6D1+hgN0EfA4gWdoVituHZBHINlk9k4sFkQhEpEfsvdcWsoW/gk6Q5ryGLHqVoD/AL3+WrBcQhEsRMayQJMDflQ8+msRAHTnjPyf+b+qthcWKKRyxh+0/rKYSfkya3ENMIuJF6OmCeV/IxTA24ssxgJjsoCmLAmY6HVU1NIiQlILs39UIHgWuWy+oTXjYopGrxDFSo9ijt/Li8NQDMgSxnDu0EKoToaLnzQxkV1Ksh0D9DXS/SIdLLMyVTavlgz6o0ms2iDO8vYOpA0hoZMfVltAQzxJrBZAwUQH0GQtcsmtJ0ApAuwKwulnaugMOp9OoZADHwPJ4MLXXLHIJ0u+OPzJ0mLEkhWMEchPBk1ZZMrtBP8AQdZK4aIlDmJlNTsSBIqEqwxVZd4kfrBRVBGiVwv1ZCfVkPdzcnRwfS2T39GNe8z90sXmvMTni1uRsArwEH5rT8wiE6BYekYAJuLnqI/rA8XxLWPfIhAgFw6gR+8raFJsfVW9IzcTIWB4JaPB/wAsP//\" alt=\"İTÜ Logosu\" width=\"500\">\n",
    "</div>\n",
    "\n",
    "<div style=\"text-align: center;\">\n",
    "    <h1>Variance Analysis Project - Fırat Olçum - 20.01.2025</h1>\n",
    "</div>"
   ]
  },
  {
   "cell_type": "markdown",
   "id": "673874ef-546e-4ede-b726-c20ca2fad5f2",
   "metadata": {},
   "source": [
    "---"
   ]
  }
 ],
 "metadata": {
  "kernelspec": {
   "display_name": "Python 3 (ipykernel)",
   "language": "python",
   "name": "python3"
  },
  "language_info": {
   "codemirror_mode": {
    "name": "ipython",
    "version": 3
   },
   "file_extension": ".py",
   "mimetype": "text/x-python",
   "name": "python",
   "nbconvert_exporter": "python",
   "pygments_lexer": "ipython3",
   "version": "3.11.5"
  }
 },
 "nbformat": 4,
 "nbformat_minor": 5
}
