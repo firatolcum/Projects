{
 "cells": [
  {
   "cell_type": "code",
   "execution_count": 2,
   "id": "f1be0d36",
   "metadata": {},
   "outputs": [],
   "source": [
    "import pandas as pd\n",
    "import numpy as np\n",
    "import matplotlib.pyplot as plt\n",
    "import seaborn as sns"
   ]
  },
  {
   "cell_type": "code",
   "execution_count": 3,
   "id": "d2236995",
   "metadata": {},
   "outputs": [
    {
     "data": {
      "text/html": [
       "<div>\n",
       "<style scoped>\n",
       "    .dataframe tbody tr th:only-of-type {\n",
       "        vertical-align: middle;\n",
       "    }\n",
       "\n",
       "    .dataframe tbody tr th {\n",
       "        vertical-align: top;\n",
       "    }\n",
       "\n",
       "    .dataframe thead th {\n",
       "        text-align: right;\n",
       "    }\n",
       "</style>\n",
       "<table border=\"1\" class=\"dataframe\">\n",
       "  <thead>\n",
       "    <tr style=\"text-align: right;\">\n",
       "      <th></th>\n",
       "      <th>Date/Time</th>\n",
       "      <th>Temp_C</th>\n",
       "      <th>Dew Point Temp_C</th>\n",
       "      <th>Rel Hum_%</th>\n",
       "      <th>Wind Speed_km/h</th>\n",
       "      <th>Visibility_km</th>\n",
       "      <th>Press_kPa</th>\n",
       "      <th>Weather</th>\n",
       "    </tr>\n",
       "  </thead>\n",
       "  <tbody>\n",
       "    <tr>\n",
       "      <th>0</th>\n",
       "      <td>1/1/2012 0:00</td>\n",
       "      <td>-1.8</td>\n",
       "      <td>-3.9</td>\n",
       "      <td>86</td>\n",
       "      <td>4</td>\n",
       "      <td>8.0</td>\n",
       "      <td>101.24</td>\n",
       "      <td>Fog</td>\n",
       "    </tr>\n",
       "    <tr>\n",
       "      <th>1</th>\n",
       "      <td>1/1/2012 1:00</td>\n",
       "      <td>-1.8</td>\n",
       "      <td>-3.7</td>\n",
       "      <td>87</td>\n",
       "      <td>4</td>\n",
       "      <td>8.0</td>\n",
       "      <td>101.24</td>\n",
       "      <td>Fog</td>\n",
       "    </tr>\n",
       "    <tr>\n",
       "      <th>2</th>\n",
       "      <td>1/1/2012 2:00</td>\n",
       "      <td>-1.8</td>\n",
       "      <td>-3.4</td>\n",
       "      <td>89</td>\n",
       "      <td>7</td>\n",
       "      <td>4.0</td>\n",
       "      <td>101.26</td>\n",
       "      <td>Freezing Drizzle,Fog</td>\n",
       "    </tr>\n",
       "    <tr>\n",
       "      <th>3</th>\n",
       "      <td>1/1/2012 3:00</td>\n",
       "      <td>-1.5</td>\n",
       "      <td>-3.2</td>\n",
       "      <td>88</td>\n",
       "      <td>6</td>\n",
       "      <td>4.0</td>\n",
       "      <td>101.27</td>\n",
       "      <td>Freezing Drizzle,Fog</td>\n",
       "    </tr>\n",
       "    <tr>\n",
       "      <th>4</th>\n",
       "      <td>1/1/2012 4:00</td>\n",
       "      <td>-1.5</td>\n",
       "      <td>-3.3</td>\n",
       "      <td>88</td>\n",
       "      <td>7</td>\n",
       "      <td>4.8</td>\n",
       "      <td>101.23</td>\n",
       "      <td>Fog</td>\n",
       "    </tr>\n",
       "  </tbody>\n",
       "</table>\n",
       "</div>"
      ],
      "text/plain": [
       "       Date/Time  Temp_C  Dew Point Temp_C  Rel Hum_%  Wind Speed_km/h  \\\n",
       "0  1/1/2012 0:00    -1.8              -3.9         86                4   \n",
       "1  1/1/2012 1:00    -1.8              -3.7         87                4   \n",
       "2  1/1/2012 2:00    -1.8              -3.4         89                7   \n",
       "3  1/1/2012 3:00    -1.5              -3.2         88                6   \n",
       "4  1/1/2012 4:00    -1.5              -3.3         88                7   \n",
       "\n",
       "   Visibility_km  Press_kPa               Weather  \n",
       "0            8.0     101.24                   Fog  \n",
       "1            8.0     101.24                   Fog  \n",
       "2            4.0     101.26  Freezing Drizzle,Fog  \n",
       "3            4.0     101.27  Freezing Drizzle,Fog  \n",
       "4            4.8     101.23                   Fog  "
      ]
     },
     "execution_count": 3,
     "metadata": {},
     "output_type": "execute_result"
    }
   ],
   "source": [
    "df = pd.read_csv(\"weather_data.csv\",index_col=False)\n",
    "df.head()"
   ]
  },
  {
   "cell_type": "code",
   "execution_count": 4,
   "id": "a6ca6aa5",
   "metadata": {},
   "outputs": [
    {
     "data": {
      "text/plain": [
       "(8784, 8)"
      ]
     },
     "execution_count": 4,
     "metadata": {},
     "output_type": "execute_result"
    }
   ],
   "source": [
    "df.shape"
   ]
  },
  {
   "cell_type": "code",
   "execution_count": 5,
   "id": "f9841c13",
   "metadata": {},
   "outputs": [
    {
     "name": "stdout",
     "output_type": "stream",
     "text": [
      "<class 'pandas.core.frame.DataFrame'>\n",
      "RangeIndex: 8784 entries, 0 to 8783\n",
      "Data columns (total 8 columns):\n",
      " #   Column            Non-Null Count  Dtype  \n",
      "---  ------            --------------  -----  \n",
      " 0   Date/Time         8784 non-null   object \n",
      " 1   Temp_C            8784 non-null   float64\n",
      " 2   Dew Point Temp_C  8784 non-null   float64\n",
      " 3   Rel Hum_%         8784 non-null   int64  \n",
      " 4   Wind Speed_km/h   8784 non-null   int64  \n",
      " 5   Visibility_km     8784 non-null   float64\n",
      " 6   Press_kPa         8784 non-null   float64\n",
      " 7   Weather           8784 non-null   object \n",
      "dtypes: float64(4), int64(2), object(2)\n",
      "memory usage: 549.1+ KB\n"
     ]
    }
   ],
   "source": [
    "df.info()"
   ]
  },
  {
   "cell_type": "code",
   "execution_count": 9,
   "id": "3cd8860b",
   "metadata": {},
   "outputs": [
    {
     "data": {
      "text/plain": [
       "False    8784\n",
       "dtype: int64"
      ]
     },
     "execution_count": 9,
     "metadata": {},
     "output_type": "execute_result"
    }
   ],
   "source": [
    "df.duplicated().value_counts()"
   ]
  },
  {
   "cell_type": "code",
   "execution_count": 17,
   "id": "2d206f1d",
   "metadata": {
    "scrolled": false
   },
   "outputs": [
    {
     "name": "stdout",
     "output_type": "stream",
     "text": [
      "Date/Time\n",
      "['1/1/2012 0:00' '1/1/2012 1:00' '1/1/2012 2:00' ... '12/31/2012 21:00'\n",
      " '12/31/2012 22:00' '12/31/2012 23:00']\n",
      "----------------------------------------------------------------------------------------------------\n",
      "Temp_C\n",
      "[ -1.8  -1.5  -1.4  -1.3  -1.   -0.5  -0.2   0.2   0.8   1.8   2.6   3.\n",
      "   3.8   3.1   3.2   4.    4.4   5.3   5.2   4.6   3.9   3.7   2.9   2.3\n",
      "   2.    1.9   1.5   2.2   1.7   1.1   0.   -0.7  -2.1  -4.1  -4.8  -5.6\n",
      "  -5.8  -7.   -7.4  -9.   -9.7 -10.5 -11.3 -12.6 -12.9 -13.3 -14.  -14.8\n",
      " -15.  -15.3 -14.9 -15.1 -15.8 -16.3 -16.9 -17.3 -17.  -17.1 -17.5 -17.9\n",
      " -18.1 -18.5 -18.6 -18.2 -17.8 -16.8 -15.2 -14.2 -13.7 -12.4 -10.2  -9.4\n",
      "  -8.9  -8.4  -7.8  -7.6  -9.5  -9.6  -8.8  -7.5  -5.4  -5.   -8.2  -7.1\n",
      "  -6.1  -6.6  -6.   -4.7  -4.4  -5.1  -4.3  -6.7  -9.2  -9.8  -9.9 -10.\n",
      " -10.6 -11.8 -12.  -14.4 -12.3 -12.5 -11.7 -11.9 -11.2 -11.5 -11.6  -9.3\n",
      "  -8.7  -8.5  -8.1  -6.9  -6.4  -5.7  -5.5  -3.7  -3.6  -3.1  -3.2  -3.\n",
      "   0.4   0.6  -0.6  -1.7  -3.5  -5.9  -6.5  -7.2  -8.   -8.3  -7.7  -6.8\n",
      "  -2.5  -1.1  -0.3   2.5   1.4   1.6   1.2   0.7  -4.   -4.9  -7.3  -8.6\n",
      " -10.7 -12.7 -13.4 -13.9 -14.7 -14.3 -12.2 -11.4 -10.8  -6.2  -5.2  -4.6\n",
      "  -4.5  -2.9 -18.  -16.7 -17.4 -17.7 -18.3 -19.6 -20.  -19.9 -20.3 -21.2\n",
      " -21.1 -21.4 -20.7 -21.  -21.3 -23.2 -22.8 -23.3 -22.2 -20.6 -19.3 -16.\n",
      " -15.4 -16.2 -19.2 -18.7 -19.1 -13.6 -10.1 -10.4  -5.3  -3.3  -1.6   2.1\n",
      "   0.5 -10.9 -11.1 -11.  -10.3 -16.6 -14.6  -4.2  -3.9  -6.3 -15.5 -15.9\n",
      " -16.4 -16.1 -12.1 -13.  -17.6 -18.4 -17.2 -19.5 -19.  -14.5 -13.2   2.7\n",
      "   3.3   3.6   3.5   5.    4.2   3.4   2.8   2.4   1.3   1.   -0.1  -0.4\n",
      "  -2.8  -7.9  -3.4  -3.8  -0.8   0.3   0.1  -1.2   0.9  -0.9  -2.   -1.9\n",
      "  -2.2  -2.3 -15.7 -13.5 -13.8  -2.4 -13.1 -12.8  -2.7   5.8   6.1   5.4\n",
      "   6.5   4.3   6.4   8.9   9.3   9.7  11.4   9.9   5.5   6.    7.6   6.8\n",
      "   4.8   6.2   7.9  10.1  10.    5.7  10.3   6.7  10.2  12.1  12.7  11.7\n",
      "  11.5  11.6  11.3  10.5  -2.6   5.9   9.    9.5  10.9  10.7   9.1   7.4\n",
      "   8.3  10.6  10.8  12.3  12.4  11.8   8.7   9.2   8.4   6.6   7.5   5.1\n",
      "   4.9   4.1   8.1   9.8   8.8   7.7  10.4  11.9  14.1  17.3  20.   21.7\n",
      "  22.2  22.7  21.8  18.4  17.1  12.8  13.4  12.6  11.2  13.9  15.6  17.8\n",
      "  19.8  18.5  17.   16.3  16.6  15.9  12.5   7.2   7.1   8.   14.9  16.5\n",
      "  21.5  22.5  23.3  22.   19.7  17.5  18.1  16.   14.2  14.3  14.   13.8\n",
      "  18.2  20.2  22.3  23.8  24.7  25.4  25.5  25.2  20.7  17.2  16.4  18.\n",
      "  15.5  15.   11.   13.2  13.7  15.4  19.6  20.4  23.   22.8  21.4  16.7\n",
      "  15.1  14.5  16.2  16.8  14.7   7.3   4.7   6.3   4.5   8.2   7.    6.9\n",
      "   7.8   5.6   8.5   8.6   9.4  12.2  13.5  16.1  13.6  15.3  14.8  12.\n",
      "  12.9  13.1  19.4  14.6  15.7  14.4  15.2  19.3  24.9  24.1  24.8  26.6\n",
      "  27.4  27.8  27.3  26.7  26.4  20.5  19.5  19.   18.9  17.4  11.1  15.8\n",
      "  18.7   9.6  13.   13.3  16.9  20.1  20.6  20.9  21.   19.9  19.2  17.6\n",
      "  17.9  18.6  22.4  23.9  23.6  18.8  21.2  21.9  23.2  23.4  23.5  22.9\n",
      "  18.3  20.3  20.8  17.7  19.1  25.6  25.8  26.   24.3  21.6  26.8  28.6\n",
      "  29.5  30.9  31.2  30.8  29.2  26.9  25.9  24.   28.   28.4  28.8  28.9\n",
      "  28.2  27.7  26.5  21.1  24.6  26.1  27.1  27.6  28.1  24.4  23.1  27.2\n",
      "  26.2  21.3  22.1  22.6  24.2  23.7  25.3  28.7  29.4  30.1  29.6  29.1\n",
      "  25.   24.5  25.7  27.   27.9  26.3  28.5  29.7  31.7  32.2  32.3  32.4\n",
      "  30.6  25.1  31.8  31.6  32.6  33.   32.5  32.1  31.1  30.3  27.5  29.\n",
      "  29.8  30.7  30.2  29.9  28.3  30.5  30.4  31.9  31.4  32.7  32.9  31.5\n",
      "  29.3  30.   32.   32.8  -9.1]\n",
      "----------------------------------------------------------------------------------------------------\n",
      "Dew Point Temp_C\n",
      "[ -3.9  -3.7  -3.4  -3.2  -3.3  -3.1  -3.6  -2.3  -2.1  -2.   -1.7  -1.1\n",
      "  -0.4  -0.2   0.    1.    1.3   1.7   1.9   2.    1.5  -0.9  -1.5  -2.6\n",
      "  -2.9  -4.1  -3.5  -6.2  -6.5  -6.8  -7.   -8.7  -9.5 -11.4 -12.1 -13.4\n",
      " -12.8 -14.7 -14.1 -16.  -17.2 -15.8 -18.7 -20.1 -19.1 -19.3 -19.5 -21.3\n",
      " -21.9 -22.2 -22.6 -22.4 -22.9 -23.2 -23.8 -24.8 -25.4 -24.6 -24.2 -24.1\n",
      " -24.  -22.5 -20.6 -21.1 -21.7 -19.  -16.3 -15.5 -13.2 -12.6 -12.7 -11.6\n",
      " -11.7 -10.2  -8.3  -7.7 -10.7  -9.7  -9.1 -10.1 -10.   -9.6 -12.  -14.4\n",
      " -15.4 -15.7 -14.8 -16.8 -17.3 -16.5 -16.1 -16.2 -16.7 -15.6 -14.3 -13.6\n",
      " -13.  -12.5 -12.2 -11.1 -10.8 -10.5  -9.   -8.   -7.8  -7.2  -6.9  -6.1\n",
      "  -5.9  -5.4  -5.3  -5.   -3.   -4.6  -9.2 -10.3 -11.9 -12.4 -12.9 -13.3\n",
      " -13.8 -13.9 -13.7 -14.  -14.5 -11.   -6.6  -5.8  -5.1  -5.7  -5.6  -6.3\n",
      "  -5.2  -2.5  -1.2  -0.7  -0.8  -7.9 -10.9 -17.8 -18.9 -19.4 -21.  -21.4\n",
      " -20.8 -20.9 -20.4 -20.  -19.9 -19.2 -18.1 -15.2 -15.  -13.1 -11.3  -8.9\n",
      "  -8.6  -8.5  -7.6  -7.3  -8.1  -7.5  -7.4  -6.   -4.8  -4.5 -11.2 -19.8\n",
      " -23.5 -23.6 -23.9 -23.4 -24.3 -24.4 -25.8 -25.9 -26.  -26.2 -26.8 -26.6\n",
      " -26.1 -26.5 -28.5 -28.  -27.8 -25.5 -22.8 -22.7 -23.  -23.3 -21.5 -20.7\n",
      " -17.7 -16.9 -17.5 -18.3 -17.1 -14.6 -10.4  -9.9  -4.9   0.7  -4.   -8.2\n",
      " -16.6 -17.6 -18.  -18.4 -18.8 -18.2 -17.4 -21.6 -19.7 -14.9  -8.4  -9.3\n",
      " -20.3 -21.2 -22.1 -23.7 -25.6 -25.1 -24.5 -21.8 -22.  -20.2 -17.   -2.4\n",
      "  -0.3   1.2   1.4   2.2   2.5   2.3   2.1   3.6  -0.6  -1.8  -1.9  -2.2\n",
      "  -2.8 -11.8 -11.5 -13.5  -8.8  -4.2  -1.4  -1.   -1.3  -1.6  -2.7  -4.4\n",
      "  -4.3 -15.1 -14.2 -15.3 -15.9 -12.3  -7.1  -6.7  -6.4 -17.9 -18.6  -4.7\n",
      "  -3.8 -16.4  -5.5 -23.1 -25.3 -19.6 -10.6   0.1   0.2   0.3  -0.5   1.1\n",
      "   1.6   0.9  -9.8   0.4  -9.4 -18.5 -22.3 -20.5   0.8   2.9   3.8   4.\n",
      "   5.2   5.9   6.6   6.4   6.9   7.8   3.2   0.6   1.8   3.    4.5   3.3\n",
      "   2.8  -0.1   0.5   3.5   3.7   3.4   2.7   2.6   5.3   6.2   4.3   4.4\n",
      "   4.1   4.7   5.4   5.5   4.9   2.4   5.8   6.7   7.6   8.7   9.9  10.5\n",
      "  10.4  10.7  11.   10.1   9.8   8.6   9.2   8.9   7.9   8.5   8.3   9.\n",
      "   8.1   9.4  11.6  12.   10.    9.7   9.1  10.8  11.8  12.3  12.1  11.7\n",
      "  10.9  10.3   8.8  11.5  12.5  12.6   9.5   7.4   8.4  11.4  11.9  12.8\n",
      "  12.2   6.8   7.2   7.1   7.5   6.5   6.3   4.6   4.8   5.7   3.1   8.\n",
      "  10.6  11.2  11.1  13.3  13.5  13.6  12.4  11.3  15.6  15.8  14.7  14.2\n",
      "   9.6   6.1   3.9   4.2   5.1   5.6   7.    8.2   7.7   7.3  10.2  13.\n",
      "  12.9   9.3   5.    6.   12.7  13.1  13.8  13.9  14.5  15.   14.3  14.6\n",
      "  14.4  15.2  15.4  15.3  15.1  14.   13.2  14.1  13.4  16.   16.2  16.4\n",
      "  16.1  16.5  16.9  16.3  17.3  16.7  15.9  17.   17.7  17.5  15.5  15.7\n",
      "  16.8  17.2  17.1  18.3  18.5  18.1  14.8  18.7  18.4  19.   17.4  17.6\n",
      "  17.8  17.9  13.7  18.   16.6  14.9  18.9  19.2  19.4  19.1  19.3  18.8\n",
      "  18.2  19.8  20.   20.4  19.6  20.3  19.9  21.1  21.   20.2  20.1  18.6\n",
      "  20.8  20.6  20.7  19.7  20.9  21.2  21.7  21.9  20.5  19.5  21.3  22.3\n",
      "  23.1  22.   22.2  22.6  23.2  23.   22.9  24.4  21.8]\n",
      "----------------------------------------------------------------------------------------------------\n",
      "Rel Hum_%\n",
      "[ 86  87  89  88  85  91  82  81  84  79  77  72  71  69  70  68  67  66\n",
      "  56  57  59  55  54  58  65  53  60  61  63  52  50  49  62  51  75  73\n",
      "  80  83  76  64  74  78  47  90  48  45  46  92  93  42  43  40  39  44\n",
      "  94  37  41  38  96  98  99  97  95 100  29  28  27  19  20  18  25  26\n",
      "  30  24  34  33  31  32  35  36  21  22  23]\n",
      "----------------------------------------------------------------------------------------------------\n",
      "Wind Speed_km/h\n",
      "[ 4  7  6  9 15 13 20 22 19 24 30 35 39 32 33 26 44 43 48 37 28 17 11  0\n",
      " 83 70 57 46 41 52 50 63 54  2]\n",
      "----------------------------------------------------------------------------------------------------\n",
      "Visibility_km\n",
      "[ 8.   4.   4.8  6.4  1.2 12.9 16.1 25.  19.3 24.1  9.7 11.3 48.3  3.2\n",
      "  2.8  2.4  2.   0.8  0.6  1.   1.6  3.6  0.2  0.4]\n",
      "----------------------------------------------------------------------------------------------------\n",
      "Press_kPa\n",
      "[101.24 101.26 101.27 101.23 101.29 101.2  101.15 100.98 100.79 100.58\n",
      " 100.31 100.07  99.93  99.81  99.74  99.68  99.5   99.39  99.32  99.31\n",
      "  99.26  99.3   99.21  99.18  99.14  99.19  99.27  99.33  99.41  99.66\n",
      "  99.86 100.   100.15 100.26 100.27 100.35 100.43 100.53 100.61 100.68\n",
      " 100.76 100.85 100.95 101.07 101.33 101.34 101.38 101.44 101.51 101.58\n",
      " 101.64 101.74 101.82 101.86 101.87 101.88 101.89 101.77 101.75 101.73\n",
      " 101.68 101.54 101.41 101.25 100.97 100.89 100.69 100.65 100.54 100.5\n",
      " 100.42 100.32 100.29 100.28 100.24 100.21 100.19 100.39 100.45 100.41\n",
      " 100.38 100.4  100.46 100.52 100.6  100.71 100.8  100.83 100.81 100.84\n",
      " 100.7  100.51 100.47 100.36 100.23 100.13 100.06 100.1  100.12 100.16\n",
      " 100.11 100.08 100.05 100.09 100.33 100.48 100.62 100.72 101.13 101.21\n",
      " 101.47 101.59 101.7  101.81 101.92 101.9  101.94 101.97 102.04 102.09\n",
      " 102.17 102.23 102.26 102.28 102.22 102.13 102.15 102.11 102.02 101.93\n",
      " 101.8  101.4  101.05 100.96 100.9  100.77 100.64 100.02 100.04 100.91\n",
      " 101.04 101.32 101.43 101.49 101.57 101.66 101.72 101.78 101.63 101.56\n",
      " 101.61 101.6  101.19 101.17 101.08 101.02 100.93 100.22  99.97  99.9\n",
      "  99.88  99.83  99.76  99.72  99.64  99.56  99.47  99.4   99.24  99.22\n",
      "  99.13  99.06  98.94  98.84  98.69  98.56  98.44  98.22  98.07  97.99\n",
      "  98.1   98.16  98.23  98.32  98.6   98.89  99.09  99.28  99.51  99.67\n",
      "  99.85 100.01 100.73 101.14 101.16 101.18 101.3  101.36 101.46 101.62\n",
      " 101.65 101.79 101.99 102.12 102.19 102.37 102.45 102.57 102.66 102.68\n",
      " 102.67 102.65 102.71 102.79 102.85 102.89 102.94 102.98 103.02 103.07\n",
      " 103.09 103.05 103.08 103.01 102.96 102.9  102.75 102.62 102.44 101.71\n",
      " 101.31 101.12 100.94 100.88 100.75 100.59  99.69  99.57  99.38  98.98\n",
      "  98.71  98.47  98.31  98.36  98.62  99.    99.36  99.7  100.78 100.92\n",
      " 101.   101.09 101.45 101.67 101.83 101.85 101.84 101.42 101.22 101.03\n",
      " 100.66 100.63 100.87 101.96 101.98 102.21 102.27 102.33 102.34 102.36\n",
      " 102.29 102.18 102.08 102.06 102.03 102.01 102.16 102.24 102.47 102.52\n",
      " 102.54 102.64 102.84 102.91 103.04 102.97 102.86 102.74 102.6  102.38\n",
      " 102.14 102.1  101.76 101.69 101.01 100.86 100.25 100.37 100.49 100.82\n",
      " 101.06 101.11 101.37 101.52 102.05 102.07 101.95 101.53 101.28 100.99\n",
      "  99.98  99.8   99.61  99.34  99.08  98.91  98.76  98.65  98.74  98.97\n",
      "  99.54  99.75 100.03 100.34 100.74 100.14  99.95  99.87  99.96 100.67\n",
      " 101.55 100.56 102.31 102.35 102.39 102.4  102.42 102.51 102.59 102.61\n",
      " 102.46 102.25 102.32 101.91 101.48 100.57 101.39 102.2  101.1  100.55\n",
      " 100.3  100.44 102.   101.5  100.2   99.77  99.59  99.52  99.29  99.23\n",
      "  99.17  99.11  99.16  99.2   99.42  99.49  99.53  99.6   99.82  99.91\n",
      "  99.07  98.88  98.81  98.55  98.39  98.29  98.18  98.06  98.    97.97\n",
      "  98.03  98.11  98.2   98.33  98.45  98.75  99.05 102.41 102.49 102.55\n",
      " 102.63 102.72 102.58 102.5  102.69 102.53 102.56 102.3   99.55  99.02\n",
      "  98.79  98.7   98.86  98.82  98.73  98.68  98.67  98.92  98.96  99.46\n",
      "  99.63  99.84  99.94 100.18 102.7  103.   103.06 103.1  103.12 102.81\n",
      "  99.99  99.78 102.73 102.95 102.99 101.35 100.17 102.48 102.43  99.45\n",
      "  99.48  99.92  99.89  99.71  99.12  99.1   99.43  99.37  99.58  99.15\n",
      "  98.9   98.8   98.66  98.61  98.54  98.51  98.58  98.64  98.5   98.53\n",
      "  98.63  98.72  98.78  99.01  99.79  99.65  99.62  99.73  99.44  99.35\n",
      "  99.25 103.15 103.25 103.29 103.31 103.34 103.2  103.16 103.17 103.18\n",
      " 102.93 103.13 103.24 103.28 103.39 103.47 103.51 103.52 103.5  103.43\n",
      " 103.46 103.49 103.54 103.56 103.58 103.59 103.63 103.61 103.65 103.38\n",
      " 103.36 103.3  103.27 103.22 103.11 103.03 102.92 102.83 102.78 102.82\n",
      " 103.14 103.26 103.21 103.19 103.23  97.93  97.76  97.56  97.52  97.58\n",
      "  97.64  97.75  97.79  97.81  97.84  97.89  97.98  98.19]\n",
      "----------------------------------------------------------------------------------------------------\n",
      "Weather\n",
      "['Fog' 'Freezing Drizzle,Fog' 'Mostly Cloudy' 'Cloudy' 'Rain'\n",
      " 'Rain Showers' 'Mainly Clear' 'Snow Showers' 'Snow' 'Clear'\n",
      " 'Freezing Rain,Fog' 'Freezing Rain' 'Freezing Drizzle' 'Rain,Snow'\n",
      " 'Moderate Snow' 'Freezing Drizzle,Snow' 'Freezing Rain,Snow Grains'\n",
      " 'Snow,Blowing Snow' 'Freezing Fog' 'Haze' 'Rain,Fog' 'Drizzle,Fog'\n",
      " 'Drizzle' 'Freezing Drizzle,Haze' 'Freezing Rain,Haze' 'Snow,Haze'\n",
      " 'Snow,Fog' 'Snow,Ice Pellets' 'Rain,Haze' 'Thunderstorms,Rain'\n",
      " 'Thunderstorms,Rain Showers' 'Thunderstorms,Heavy Rain Showers'\n",
      " 'Thunderstorms,Rain Showers,Fog' 'Thunderstorms' 'Thunderstorms,Rain,Fog'\n",
      " 'Thunderstorms,Moderate Rain Showers,Fog' 'Rain Showers,Fog'\n",
      " 'Rain Showers,Snow Showers' 'Snow Pellets' 'Rain,Snow,Fog'\n",
      " 'Moderate Rain,Fog' 'Freezing Rain,Ice Pellets,Fog'\n",
      " 'Drizzle,Ice Pellets,Fog' 'Drizzle,Snow' 'Rain,Ice Pellets'\n",
      " 'Drizzle,Snow,Fog' 'Rain,Snow Grains' 'Rain,Snow,Ice Pellets'\n",
      " 'Snow Showers,Fog' 'Moderate Snow,Blowing Snow']\n",
      "----------------------------------------------------------------------------------------------------\n"
     ]
    }
   ],
   "source": [
    "for column in df.columns:\n",
    "    print(column)\n",
    "    print(df[column].unique())\n",
    "    print(\"-\" * 100)\n"
   ]
  },
  {
   "cell_type": "code",
   "execution_count": 21,
   "id": "4c94abbb",
   "metadata": {},
   "outputs": [
    {
     "data": {
      "text/html": [
       "<div>\n",
       "<style scoped>\n",
       "    .dataframe tbody tr th:only-of-type {\n",
       "        vertical-align: middle;\n",
       "    }\n",
       "\n",
       "    .dataframe tbody tr th {\n",
       "        vertical-align: top;\n",
       "    }\n",
       "\n",
       "    .dataframe thead th {\n",
       "        text-align: right;\n",
       "    }\n",
       "</style>\n",
       "<table border=\"1\" class=\"dataframe\">\n",
       "  <thead>\n",
       "    <tr style=\"text-align: right;\">\n",
       "      <th></th>\n",
       "      <th>count</th>\n",
       "      <th>mean</th>\n",
       "      <th>std</th>\n",
       "      <th>min</th>\n",
       "      <th>25%</th>\n",
       "      <th>50%</th>\n",
       "      <th>75%</th>\n",
       "      <th>max</th>\n",
       "    </tr>\n",
       "  </thead>\n",
       "  <tbody>\n",
       "    <tr>\n",
       "      <th>Temp_C</th>\n",
       "      <td>8784.0</td>\n",
       "      <td>8.798144</td>\n",
       "      <td>11.687883</td>\n",
       "      <td>-23.30</td>\n",
       "      <td>0.10</td>\n",
       "      <td>9.30</td>\n",
       "      <td>18.80</td>\n",
       "      <td>33.00</td>\n",
       "    </tr>\n",
       "    <tr>\n",
       "      <th>Dew Point Temp_C</th>\n",
       "      <td>8784.0</td>\n",
       "      <td>2.555294</td>\n",
       "      <td>10.883072</td>\n",
       "      <td>-28.50</td>\n",
       "      <td>-5.90</td>\n",
       "      <td>3.30</td>\n",
       "      <td>11.80</td>\n",
       "      <td>24.40</td>\n",
       "    </tr>\n",
       "    <tr>\n",
       "      <th>Rel Hum_%</th>\n",
       "      <td>8784.0</td>\n",
       "      <td>67.431694</td>\n",
       "      <td>16.918881</td>\n",
       "      <td>18.00</td>\n",
       "      <td>56.00</td>\n",
       "      <td>68.00</td>\n",
       "      <td>81.00</td>\n",
       "      <td>100.00</td>\n",
       "    </tr>\n",
       "    <tr>\n",
       "      <th>Wind Speed_km/h</th>\n",
       "      <td>8784.0</td>\n",
       "      <td>14.945469</td>\n",
       "      <td>8.688696</td>\n",
       "      <td>0.00</td>\n",
       "      <td>9.00</td>\n",
       "      <td>13.00</td>\n",
       "      <td>20.00</td>\n",
       "      <td>83.00</td>\n",
       "    </tr>\n",
       "    <tr>\n",
       "      <th>Visibility_km</th>\n",
       "      <td>8784.0</td>\n",
       "      <td>27.664447</td>\n",
       "      <td>12.622688</td>\n",
       "      <td>0.20</td>\n",
       "      <td>24.10</td>\n",
       "      <td>25.00</td>\n",
       "      <td>25.00</td>\n",
       "      <td>48.30</td>\n",
       "    </tr>\n",
       "    <tr>\n",
       "      <th>Press_kPa</th>\n",
       "      <td>8784.0</td>\n",
       "      <td>101.051623</td>\n",
       "      <td>0.844005</td>\n",
       "      <td>97.52</td>\n",
       "      <td>100.56</td>\n",
       "      <td>101.07</td>\n",
       "      <td>101.59</td>\n",
       "      <td>103.65</td>\n",
       "    </tr>\n",
       "  </tbody>\n",
       "</table>\n",
       "</div>"
      ],
      "text/plain": [
       "                   count        mean        std    min     25%     50%  \\\n",
       "Temp_C            8784.0    8.798144  11.687883 -23.30    0.10    9.30   \n",
       "Dew Point Temp_C  8784.0    2.555294  10.883072 -28.50   -5.90    3.30   \n",
       "Rel Hum_%         8784.0   67.431694  16.918881  18.00   56.00   68.00   \n",
       "Wind Speed_km/h   8784.0   14.945469   8.688696   0.00    9.00   13.00   \n",
       "Visibility_km     8784.0   27.664447  12.622688   0.20   24.10   25.00   \n",
       "Press_kPa         8784.0  101.051623   0.844005  97.52  100.56  101.07   \n",
       "\n",
       "                     75%     max  \n",
       "Temp_C             18.80   33.00  \n",
       "Dew Point Temp_C   11.80   24.40  \n",
       "Rel Hum_%          81.00  100.00  \n",
       "Wind Speed_km/h    20.00   83.00  \n",
       "Visibility_km      25.00   48.30  \n",
       "Press_kPa         101.59  103.65  "
      ]
     },
     "execution_count": 21,
     "metadata": {},
     "output_type": "execute_result"
    }
   ],
   "source": [
    "df.describe().T"
   ]
  },
  {
   "cell_type": "markdown",
   "id": "e6d53d5a",
   "metadata": {},
   "source": [
    "##### 1. Find all the unique 'Wind Speed' values in df."
   ]
  },
  {
   "cell_type": "code",
   "execution_count": null,
   "id": "6f6c32c8",
   "metadata": {},
   "outputs": [],
   "source": []
  },
  {
   "cell_type": "markdown",
   "id": "9716d5a7",
   "metadata": {},
   "source": [
    "##### 2. Find the number of times when the 'Weather is exactly Clear'."
   ]
  },
  {
   "cell_type": "code",
   "execution_count": null,
   "id": "acf263d6",
   "metadata": {},
   "outputs": [],
   "source": []
  },
  {
   "cell_type": "markdown",
   "id": "67927870",
   "metadata": {},
   "source": [
    "##### 3. Find the number of times when the 'Wind Speed was exactly 4 km/h'."
   ]
  },
  {
   "cell_type": "code",
   "execution_count": null,
   "id": "66f5aaac",
   "metadata": {},
   "outputs": [],
   "source": []
  },
  {
   "cell_type": "markdown",
   "id": "121878bd",
   "metadata": {},
   "source": [
    "##### 4. Find out all the Null Values in data."
   ]
  },
  {
   "cell_type": "code",
   "execution_count": null,
   "id": "ff628e8e",
   "metadata": {},
   "outputs": [],
   "source": []
  },
  {
   "cell_type": "markdown",
   "id": "6466a831",
   "metadata": {},
   "source": [
    "##### 5. Rename the column name 'Weather' of dataframe to  'Weather Condition'."
   ]
  },
  {
   "cell_type": "code",
   "execution_count": null,
   "id": "d992ead0",
   "metadata": {},
   "outputs": [],
   "source": []
  },
  {
   "cell_type": "markdown",
   "id": "ff78150d",
   "metadata": {},
   "source": [
    "##### 6. What is the mean 'Visibility'?"
   ]
  },
  {
   "cell_type": "code",
   "execution_count": null,
   "id": "620ecf89",
   "metadata": {},
   "outputs": [],
   "source": []
  },
  {
   "cell_type": "markdown",
   "id": "579c6659",
   "metadata": {},
   "source": [
    "##### 7. What is the Standart Deviation of 'Pressure' in this data?"
   ]
  },
  {
   "cell_type": "code",
   "execution_count": null,
   "id": "95c23361",
   "metadata": {},
   "outputs": [],
   "source": [
    "\n"
   ]
  },
  {
   "cell_type": "markdown",
   "id": "bd63e795",
   "metadata": {},
   "source": [
    "##### 8. What is the Variance of 'Relative Humidity' in this data?"
   ]
  },
  {
   "cell_type": "code",
   "execution_count": null,
   "id": "1a90c742",
   "metadata": {},
   "outputs": [],
   "source": []
  },
  {
   "cell_type": "markdown",
   "id": "763dd16e",
   "metadata": {},
   "source": [
    "##### 9. Find all instances when 'Snow' was recorded."
   ]
  },
  {
   "cell_type": "code",
   "execution_count": null,
   "id": "f27e818c",
   "metadata": {},
   "outputs": [],
   "source": []
  },
  {
   "cell_type": "markdown",
   "id": "e5b7cec3",
   "metadata": {},
   "source": [
    "##### 10. Find all instances when 'Wind Speed is above 24' and 'Visibility is 25'."
   ]
  },
  {
   "cell_type": "code",
   "execution_count": null,
   "id": "0ca08101",
   "metadata": {},
   "outputs": [],
   "source": []
  },
  {
   "cell_type": "markdown",
   "id": "527eec75",
   "metadata": {},
   "source": [
    "##### 11. What is the mean value of each column against each 'Weather Condition'?"
   ]
  },
  {
   "cell_type": "code",
   "execution_count": null,
   "id": "71860ff7",
   "metadata": {},
   "outputs": [],
   "source": []
  },
  {
   "cell_type": "markdown",
   "id": "711debf1",
   "metadata": {},
   "source": [
    "##### 12. What is the Minimum & Maximum value of each column against each 'Weather Condition'?"
   ]
  },
  {
   "cell_type": "code",
   "execution_count": null,
   "id": "f3e0c470",
   "metadata": {},
   "outputs": [],
   "source": []
  },
  {
   "cell_type": "markdown",
   "id": "e2f17b1d",
   "metadata": {},
   "source": [
    "##### 13. Show all the Records where Weather Condition is Fog."
   ]
  },
  {
   "cell_type": "code",
   "execution_count": null,
   "id": "8ccd76be",
   "metadata": {},
   "outputs": [],
   "source": []
  },
  {
   "cell_type": "markdown",
   "id": "f9ac3535",
   "metadata": {},
   "source": [
    "##### 14. Find all instances when 'Weather is Clear' or 'Visibility is above 40'."
   ]
  },
  {
   "cell_type": "code",
   "execution_count": null,
   "id": "0bad7773",
   "metadata": {},
   "outputs": [],
   "source": []
  },
  {
   "cell_type": "markdown",
   "id": "8ea63b5c",
   "metadata": {},
   "source": [
    "##### 15. Find all instances when 'Weather is Clear' and 'Relative Humidity is greater thab 50'."
   ]
  },
  {
   "cell_type": "code",
   "execution_count": null,
   "id": "e362a625",
   "metadata": {},
   "outputs": [],
   "source": []
  },
  {
   "cell_type": "code",
   "execution_count": null,
   "id": "76f7aa82",
   "metadata": {},
   "outputs": [],
   "source": []
  },
  {
   "cell_type": "code",
   "execution_count": null,
   "id": "2d09e4cc",
   "metadata": {},
   "outputs": [],
   "source": []
  },
  {
   "cell_type": "code",
   "execution_count": null,
   "id": "908e6633",
   "metadata": {},
   "outputs": [],
   "source": []
  },
  {
   "cell_type": "code",
   "execution_count": null,
   "id": "9aa2a153",
   "metadata": {},
   "outputs": [],
   "source": []
  },
  {
   "cell_type": "code",
   "execution_count": null,
   "id": "dd4acabc",
   "metadata": {},
   "outputs": [],
   "source": []
  },
  {
   "cell_type": "code",
   "execution_count": null,
   "id": "bbb9016b",
   "metadata": {},
   "outputs": [],
   "source": []
  },
  {
   "cell_type": "code",
   "execution_count": null,
   "id": "c4a0015d",
   "metadata": {},
   "outputs": [],
   "source": []
  },
  {
   "cell_type": "code",
   "execution_count": null,
   "id": "44b4bfe3",
   "metadata": {},
   "outputs": [],
   "source": []
  },
  {
   "cell_type": "code",
   "execution_count": null,
   "id": "ff8ba479",
   "metadata": {},
   "outputs": [],
   "source": []
  },
  {
   "cell_type": "code",
   "execution_count": null,
   "id": "ee50a729",
   "metadata": {},
   "outputs": [],
   "source": []
  }
 ],
 "metadata": {
  "kernelspec": {
   "display_name": "Python 3 (ipykernel)",
   "language": "python",
   "name": "python3"
  },
  "language_info": {
   "codemirror_mode": {
    "name": "ipython",
    "version": 3
   },
   "file_extension": ".py",
   "mimetype": "text/x-python",
   "name": "python",
   "nbconvert_exporter": "python",
   "pygments_lexer": "ipython3",
   "version": "3.9.12"
  }
 },
 "nbformat": 4,
 "nbformat_minor": 5
}
